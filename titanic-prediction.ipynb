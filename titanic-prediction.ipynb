{
 "cells": [
  {
   "cell_type": "code",
   "execution_count": 1,
   "id": "c4e5f89e",
   "metadata": {
    "_cell_guid": "b1076dfc-b9ad-4769-8c92-a6c4dae69d19",
    "_uuid": "8f2839f25d086af736a60e9eeb907d3b93b6e0e5",
    "execution": {
     "iopub.execute_input": "2023-04-26T18:06:59.561506Z",
     "iopub.status.busy": "2023-04-26T18:06:59.560965Z",
     "iopub.status.idle": "2023-04-26T18:06:59.576561Z",
     "shell.execute_reply": "2023-04-26T18:06:59.575684Z"
    },
    "papermill": {
     "duration": 0.033924,
     "end_time": "2023-04-26T18:06:59.579386",
     "exception": false,
     "start_time": "2023-04-26T18:06:59.545462",
     "status": "completed"
    },
    "tags": []
   },
   "outputs": [
    {
     "name": "stdout",
     "output_type": "stream",
     "text": [
      "/kaggle/input/titanic/train.csv\n",
      "/kaggle/input/titanic/test.csv\n",
      "/kaggle/input/titanic/gender_submission.csv\n"
     ]
    }
   ],
   "source": [
    "# This Python 3 environment comes with many helpful analytics libraries installed\n",
    "# It is defined by the kaggle/python Docker image: https://github.com/kaggle/docker-python\n",
    "# For example, here's several helpful packages to load\n",
    "\n",
    "import numpy as np # linear algebra\n",
    "import pandas as pd # data processing, CSV file I/O (e.g. pd.read_csv)\n",
    "\n",
    "# Input data files are available in the read-only \"../input/\" directory\n",
    "# For example, running this (by clicking run or pressing Shift+Enter) will list all files under the input directory\n",
    "\n",
    "import os\n",
    "for dirname, _, filenames in os.walk('/kaggle/input'):\n",
    "    for filename in filenames:\n",
    "        print(os.path.join(dirname, filename))\n",
    "\n",
    "# You can write up to 20GB to the current directory (/kaggle/working/) that gets preserved as output when you create a version using \"Save & Run All\" \n",
    "# You can also write temporary files to /kaggle/temp/, but they won't be saved outside of the current session"
   ]
  },
  {
   "cell_type": "code",
   "execution_count": 2,
   "id": "4ae1cdac",
   "metadata": {
    "execution": {
     "iopub.execute_input": "2023-04-26T18:06:59.607552Z",
     "iopub.status.busy": "2023-04-26T18:06:59.606260Z",
     "iopub.status.idle": "2023-04-26T18:06:59.665178Z",
     "shell.execute_reply": "2023-04-26T18:06:59.663927Z"
    },
    "papermill": {
     "duration": 0.075846,
     "end_time": "2023-04-26T18:06:59.667553",
     "exception": false,
     "start_time": "2023-04-26T18:06:59.591707",
     "status": "completed"
    },
    "tags": []
   },
   "outputs": [
    {
     "data": {
      "text/html": [
       "<div>\n",
       "<style scoped>\n",
       "    .dataframe tbody tr th:only-of-type {\n",
       "        vertical-align: middle;\n",
       "    }\n",
       "\n",
       "    .dataframe tbody tr th {\n",
       "        vertical-align: top;\n",
       "    }\n",
       "\n",
       "    .dataframe thead th {\n",
       "        text-align: right;\n",
       "    }\n",
       "</style>\n",
       "<table border=\"1\" class=\"dataframe\">\n",
       "  <thead>\n",
       "    <tr style=\"text-align: right;\">\n",
       "      <th></th>\n",
       "      <th>PassengerId</th>\n",
       "      <th>Survived</th>\n",
       "      <th>Pclass</th>\n",
       "      <th>Name</th>\n",
       "      <th>Sex</th>\n",
       "      <th>Age</th>\n",
       "      <th>SibSp</th>\n",
       "      <th>Parch</th>\n",
       "      <th>Ticket</th>\n",
       "      <th>Fare</th>\n",
       "      <th>Cabin</th>\n",
       "      <th>Embarked</th>\n",
       "    </tr>\n",
       "  </thead>\n",
       "  <tbody>\n",
       "    <tr>\n",
       "      <th>0</th>\n",
       "      <td>1</td>\n",
       "      <td>0</td>\n",
       "      <td>3</td>\n",
       "      <td>Braund, Mr. Owen Harris</td>\n",
       "      <td>male</td>\n",
       "      <td>22.0</td>\n",
       "      <td>1</td>\n",
       "      <td>0</td>\n",
       "      <td>A/5 21171</td>\n",
       "      <td>7.2500</td>\n",
       "      <td>NaN</td>\n",
       "      <td>S</td>\n",
       "    </tr>\n",
       "    <tr>\n",
       "      <th>1</th>\n",
       "      <td>2</td>\n",
       "      <td>1</td>\n",
       "      <td>1</td>\n",
       "      <td>Cumings, Mrs. John Bradley (Florence Briggs Th...</td>\n",
       "      <td>female</td>\n",
       "      <td>38.0</td>\n",
       "      <td>1</td>\n",
       "      <td>0</td>\n",
       "      <td>PC 17599</td>\n",
       "      <td>71.2833</td>\n",
       "      <td>C85</td>\n",
       "      <td>C</td>\n",
       "    </tr>\n",
       "    <tr>\n",
       "      <th>2</th>\n",
       "      <td>3</td>\n",
       "      <td>1</td>\n",
       "      <td>3</td>\n",
       "      <td>Heikkinen, Miss. Laina</td>\n",
       "      <td>female</td>\n",
       "      <td>26.0</td>\n",
       "      <td>0</td>\n",
       "      <td>0</td>\n",
       "      <td>STON/O2. 3101282</td>\n",
       "      <td>7.9250</td>\n",
       "      <td>NaN</td>\n",
       "      <td>S</td>\n",
       "    </tr>\n",
       "    <tr>\n",
       "      <th>3</th>\n",
       "      <td>4</td>\n",
       "      <td>1</td>\n",
       "      <td>1</td>\n",
       "      <td>Futrelle, Mrs. Jacques Heath (Lily May Peel)</td>\n",
       "      <td>female</td>\n",
       "      <td>35.0</td>\n",
       "      <td>1</td>\n",
       "      <td>0</td>\n",
       "      <td>113803</td>\n",
       "      <td>53.1000</td>\n",
       "      <td>C123</td>\n",
       "      <td>S</td>\n",
       "    </tr>\n",
       "    <tr>\n",
       "      <th>4</th>\n",
       "      <td>5</td>\n",
       "      <td>0</td>\n",
       "      <td>3</td>\n",
       "      <td>Allen, Mr. William Henry</td>\n",
       "      <td>male</td>\n",
       "      <td>35.0</td>\n",
       "      <td>0</td>\n",
       "      <td>0</td>\n",
       "      <td>373450</td>\n",
       "      <td>8.0500</td>\n",
       "      <td>NaN</td>\n",
       "      <td>S</td>\n",
       "    </tr>\n",
       "    <tr>\n",
       "      <th>...</th>\n",
       "      <td>...</td>\n",
       "      <td>...</td>\n",
       "      <td>...</td>\n",
       "      <td>...</td>\n",
       "      <td>...</td>\n",
       "      <td>...</td>\n",
       "      <td>...</td>\n",
       "      <td>...</td>\n",
       "      <td>...</td>\n",
       "      <td>...</td>\n",
       "      <td>...</td>\n",
       "      <td>...</td>\n",
       "    </tr>\n",
       "    <tr>\n",
       "      <th>886</th>\n",
       "      <td>887</td>\n",
       "      <td>0</td>\n",
       "      <td>2</td>\n",
       "      <td>Montvila, Rev. Juozas</td>\n",
       "      <td>male</td>\n",
       "      <td>27.0</td>\n",
       "      <td>0</td>\n",
       "      <td>0</td>\n",
       "      <td>211536</td>\n",
       "      <td>13.0000</td>\n",
       "      <td>NaN</td>\n",
       "      <td>S</td>\n",
       "    </tr>\n",
       "    <tr>\n",
       "      <th>887</th>\n",
       "      <td>888</td>\n",
       "      <td>1</td>\n",
       "      <td>1</td>\n",
       "      <td>Graham, Miss. Margaret Edith</td>\n",
       "      <td>female</td>\n",
       "      <td>19.0</td>\n",
       "      <td>0</td>\n",
       "      <td>0</td>\n",
       "      <td>112053</td>\n",
       "      <td>30.0000</td>\n",
       "      <td>B42</td>\n",
       "      <td>S</td>\n",
       "    </tr>\n",
       "    <tr>\n",
       "      <th>888</th>\n",
       "      <td>889</td>\n",
       "      <td>0</td>\n",
       "      <td>3</td>\n",
       "      <td>Johnston, Miss. Catherine Helen \"Carrie\"</td>\n",
       "      <td>female</td>\n",
       "      <td>NaN</td>\n",
       "      <td>1</td>\n",
       "      <td>2</td>\n",
       "      <td>W./C. 6607</td>\n",
       "      <td>23.4500</td>\n",
       "      <td>NaN</td>\n",
       "      <td>S</td>\n",
       "    </tr>\n",
       "    <tr>\n",
       "      <th>889</th>\n",
       "      <td>890</td>\n",
       "      <td>1</td>\n",
       "      <td>1</td>\n",
       "      <td>Behr, Mr. Karl Howell</td>\n",
       "      <td>male</td>\n",
       "      <td>26.0</td>\n",
       "      <td>0</td>\n",
       "      <td>0</td>\n",
       "      <td>111369</td>\n",
       "      <td>30.0000</td>\n",
       "      <td>C148</td>\n",
       "      <td>C</td>\n",
       "    </tr>\n",
       "    <tr>\n",
       "      <th>890</th>\n",
       "      <td>891</td>\n",
       "      <td>0</td>\n",
       "      <td>3</td>\n",
       "      <td>Dooley, Mr. Patrick</td>\n",
       "      <td>male</td>\n",
       "      <td>32.0</td>\n",
       "      <td>0</td>\n",
       "      <td>0</td>\n",
       "      <td>370376</td>\n",
       "      <td>7.7500</td>\n",
       "      <td>NaN</td>\n",
       "      <td>Q</td>\n",
       "    </tr>\n",
       "  </tbody>\n",
       "</table>\n",
       "<p>891 rows × 12 columns</p>\n",
       "</div>"
      ],
      "text/plain": [
       "     PassengerId  Survived  Pclass  \\\n",
       "0              1         0       3   \n",
       "1              2         1       1   \n",
       "2              3         1       3   \n",
       "3              4         1       1   \n",
       "4              5         0       3   \n",
       "..           ...       ...     ...   \n",
       "886          887         0       2   \n",
       "887          888         1       1   \n",
       "888          889         0       3   \n",
       "889          890         1       1   \n",
       "890          891         0       3   \n",
       "\n",
       "                                                  Name     Sex   Age  SibSp  \\\n",
       "0                              Braund, Mr. Owen Harris    male  22.0      1   \n",
       "1    Cumings, Mrs. John Bradley (Florence Briggs Th...  female  38.0      1   \n",
       "2                               Heikkinen, Miss. Laina  female  26.0      0   \n",
       "3         Futrelle, Mrs. Jacques Heath (Lily May Peel)  female  35.0      1   \n",
       "4                             Allen, Mr. William Henry    male  35.0      0   \n",
       "..                                                 ...     ...   ...    ...   \n",
       "886                              Montvila, Rev. Juozas    male  27.0      0   \n",
       "887                       Graham, Miss. Margaret Edith  female  19.0      0   \n",
       "888           Johnston, Miss. Catherine Helen \"Carrie\"  female   NaN      1   \n",
       "889                              Behr, Mr. Karl Howell    male  26.0      0   \n",
       "890                                Dooley, Mr. Patrick    male  32.0      0   \n",
       "\n",
       "     Parch            Ticket     Fare Cabin Embarked  \n",
       "0        0         A/5 21171   7.2500   NaN        S  \n",
       "1        0          PC 17599  71.2833   C85        C  \n",
       "2        0  STON/O2. 3101282   7.9250   NaN        S  \n",
       "3        0            113803  53.1000  C123        S  \n",
       "4        0            373450   8.0500   NaN        S  \n",
       "..     ...               ...      ...   ...      ...  \n",
       "886      0            211536  13.0000   NaN        S  \n",
       "887      0            112053  30.0000   B42        S  \n",
       "888      2        W./C. 6607  23.4500   NaN        S  \n",
       "889      0            111369  30.0000  C148        C  \n",
       "890      0            370376   7.7500   NaN        Q  \n",
       "\n",
       "[891 rows x 12 columns]"
      ]
     },
     "execution_count": 2,
     "metadata": {},
     "output_type": "execute_result"
    }
   ],
   "source": [
    "train=pd.read_csv('/kaggle/input/titanic/train.csv')\n",
    "train"
   ]
  },
  {
   "cell_type": "code",
   "execution_count": 3,
   "id": "0745b7a8",
   "metadata": {
    "execution": {
     "iopub.execute_input": "2023-04-26T18:06:59.696132Z",
     "iopub.status.busy": "2023-04-26T18:06:59.695698Z",
     "iopub.status.idle": "2023-04-26T18:06:59.726290Z",
     "shell.execute_reply": "2023-04-26T18:06:59.725106Z"
    },
    "papermill": {
     "duration": 0.047948,
     "end_time": "2023-04-26T18:06:59.728955",
     "exception": false,
     "start_time": "2023-04-26T18:06:59.681007",
     "status": "completed"
    },
    "tags": []
   },
   "outputs": [
    {
     "data": {
      "text/html": [
       "<div>\n",
       "<style scoped>\n",
       "    .dataframe tbody tr th:only-of-type {\n",
       "        vertical-align: middle;\n",
       "    }\n",
       "\n",
       "    .dataframe tbody tr th {\n",
       "        vertical-align: top;\n",
       "    }\n",
       "\n",
       "    .dataframe thead th {\n",
       "        text-align: right;\n",
       "    }\n",
       "</style>\n",
       "<table border=\"1\" class=\"dataframe\">\n",
       "  <thead>\n",
       "    <tr style=\"text-align: right;\">\n",
       "      <th></th>\n",
       "      <th>PassengerId</th>\n",
       "      <th>Pclass</th>\n",
       "      <th>Name</th>\n",
       "      <th>Sex</th>\n",
       "      <th>Age</th>\n",
       "      <th>SibSp</th>\n",
       "      <th>Parch</th>\n",
       "      <th>Ticket</th>\n",
       "      <th>Fare</th>\n",
       "      <th>Cabin</th>\n",
       "      <th>Embarked</th>\n",
       "    </tr>\n",
       "  </thead>\n",
       "  <tbody>\n",
       "    <tr>\n",
       "      <th>0</th>\n",
       "      <td>892</td>\n",
       "      <td>3</td>\n",
       "      <td>Kelly, Mr. James</td>\n",
       "      <td>male</td>\n",
       "      <td>34.5</td>\n",
       "      <td>0</td>\n",
       "      <td>0</td>\n",
       "      <td>330911</td>\n",
       "      <td>7.8292</td>\n",
       "      <td>NaN</td>\n",
       "      <td>Q</td>\n",
       "    </tr>\n",
       "    <tr>\n",
       "      <th>1</th>\n",
       "      <td>893</td>\n",
       "      <td>3</td>\n",
       "      <td>Wilkes, Mrs. James (Ellen Needs)</td>\n",
       "      <td>female</td>\n",
       "      <td>47.0</td>\n",
       "      <td>1</td>\n",
       "      <td>0</td>\n",
       "      <td>363272</td>\n",
       "      <td>7.0000</td>\n",
       "      <td>NaN</td>\n",
       "      <td>S</td>\n",
       "    </tr>\n",
       "    <tr>\n",
       "      <th>2</th>\n",
       "      <td>894</td>\n",
       "      <td>2</td>\n",
       "      <td>Myles, Mr. Thomas Francis</td>\n",
       "      <td>male</td>\n",
       "      <td>62.0</td>\n",
       "      <td>0</td>\n",
       "      <td>0</td>\n",
       "      <td>240276</td>\n",
       "      <td>9.6875</td>\n",
       "      <td>NaN</td>\n",
       "      <td>Q</td>\n",
       "    </tr>\n",
       "    <tr>\n",
       "      <th>3</th>\n",
       "      <td>895</td>\n",
       "      <td>3</td>\n",
       "      <td>Wirz, Mr. Albert</td>\n",
       "      <td>male</td>\n",
       "      <td>27.0</td>\n",
       "      <td>0</td>\n",
       "      <td>0</td>\n",
       "      <td>315154</td>\n",
       "      <td>8.6625</td>\n",
       "      <td>NaN</td>\n",
       "      <td>S</td>\n",
       "    </tr>\n",
       "    <tr>\n",
       "      <th>4</th>\n",
       "      <td>896</td>\n",
       "      <td>3</td>\n",
       "      <td>Hirvonen, Mrs. Alexander (Helga E Lindqvist)</td>\n",
       "      <td>female</td>\n",
       "      <td>22.0</td>\n",
       "      <td>1</td>\n",
       "      <td>1</td>\n",
       "      <td>3101298</td>\n",
       "      <td>12.2875</td>\n",
       "      <td>NaN</td>\n",
       "      <td>S</td>\n",
       "    </tr>\n",
       "    <tr>\n",
       "      <th>...</th>\n",
       "      <td>...</td>\n",
       "      <td>...</td>\n",
       "      <td>...</td>\n",
       "      <td>...</td>\n",
       "      <td>...</td>\n",
       "      <td>...</td>\n",
       "      <td>...</td>\n",
       "      <td>...</td>\n",
       "      <td>...</td>\n",
       "      <td>...</td>\n",
       "      <td>...</td>\n",
       "    </tr>\n",
       "    <tr>\n",
       "      <th>413</th>\n",
       "      <td>1305</td>\n",
       "      <td>3</td>\n",
       "      <td>Spector, Mr. Woolf</td>\n",
       "      <td>male</td>\n",
       "      <td>NaN</td>\n",
       "      <td>0</td>\n",
       "      <td>0</td>\n",
       "      <td>A.5. 3236</td>\n",
       "      <td>8.0500</td>\n",
       "      <td>NaN</td>\n",
       "      <td>S</td>\n",
       "    </tr>\n",
       "    <tr>\n",
       "      <th>414</th>\n",
       "      <td>1306</td>\n",
       "      <td>1</td>\n",
       "      <td>Oliva y Ocana, Dona. Fermina</td>\n",
       "      <td>female</td>\n",
       "      <td>39.0</td>\n",
       "      <td>0</td>\n",
       "      <td>0</td>\n",
       "      <td>PC 17758</td>\n",
       "      <td>108.9000</td>\n",
       "      <td>C105</td>\n",
       "      <td>C</td>\n",
       "    </tr>\n",
       "    <tr>\n",
       "      <th>415</th>\n",
       "      <td>1307</td>\n",
       "      <td>3</td>\n",
       "      <td>Saether, Mr. Simon Sivertsen</td>\n",
       "      <td>male</td>\n",
       "      <td>38.5</td>\n",
       "      <td>0</td>\n",
       "      <td>0</td>\n",
       "      <td>SOTON/O.Q. 3101262</td>\n",
       "      <td>7.2500</td>\n",
       "      <td>NaN</td>\n",
       "      <td>S</td>\n",
       "    </tr>\n",
       "    <tr>\n",
       "      <th>416</th>\n",
       "      <td>1308</td>\n",
       "      <td>3</td>\n",
       "      <td>Ware, Mr. Frederick</td>\n",
       "      <td>male</td>\n",
       "      <td>NaN</td>\n",
       "      <td>0</td>\n",
       "      <td>0</td>\n",
       "      <td>359309</td>\n",
       "      <td>8.0500</td>\n",
       "      <td>NaN</td>\n",
       "      <td>S</td>\n",
       "    </tr>\n",
       "    <tr>\n",
       "      <th>417</th>\n",
       "      <td>1309</td>\n",
       "      <td>3</td>\n",
       "      <td>Peter, Master. Michael J</td>\n",
       "      <td>male</td>\n",
       "      <td>NaN</td>\n",
       "      <td>1</td>\n",
       "      <td>1</td>\n",
       "      <td>2668</td>\n",
       "      <td>22.3583</td>\n",
       "      <td>NaN</td>\n",
       "      <td>C</td>\n",
       "    </tr>\n",
       "  </tbody>\n",
       "</table>\n",
       "<p>418 rows × 11 columns</p>\n",
       "</div>"
      ],
      "text/plain": [
       "     PassengerId  Pclass                                          Name  \\\n",
       "0            892       3                              Kelly, Mr. James   \n",
       "1            893       3              Wilkes, Mrs. James (Ellen Needs)   \n",
       "2            894       2                     Myles, Mr. Thomas Francis   \n",
       "3            895       3                              Wirz, Mr. Albert   \n",
       "4            896       3  Hirvonen, Mrs. Alexander (Helga E Lindqvist)   \n",
       "..           ...     ...                                           ...   \n",
       "413         1305       3                            Spector, Mr. Woolf   \n",
       "414         1306       1                  Oliva y Ocana, Dona. Fermina   \n",
       "415         1307       3                  Saether, Mr. Simon Sivertsen   \n",
       "416         1308       3                           Ware, Mr. Frederick   \n",
       "417         1309       3                      Peter, Master. Michael J   \n",
       "\n",
       "        Sex   Age  SibSp  Parch              Ticket      Fare Cabin Embarked  \n",
       "0      male  34.5      0      0              330911    7.8292   NaN        Q  \n",
       "1    female  47.0      1      0              363272    7.0000   NaN        S  \n",
       "2      male  62.0      0      0              240276    9.6875   NaN        Q  \n",
       "3      male  27.0      0      0              315154    8.6625   NaN        S  \n",
       "4    female  22.0      1      1             3101298   12.2875   NaN        S  \n",
       "..      ...   ...    ...    ...                 ...       ...   ...      ...  \n",
       "413    male   NaN      0      0           A.5. 3236    8.0500   NaN        S  \n",
       "414  female  39.0      0      0            PC 17758  108.9000  C105        C  \n",
       "415    male  38.5      0      0  SOTON/O.Q. 3101262    7.2500   NaN        S  \n",
       "416    male   NaN      0      0              359309    8.0500   NaN        S  \n",
       "417    male   NaN      1      1                2668   22.3583   NaN        C  \n",
       "\n",
       "[418 rows x 11 columns]"
      ]
     },
     "execution_count": 3,
     "metadata": {},
     "output_type": "execute_result"
    }
   ],
   "source": [
    "test=pd.read_csv('/kaggle/input/titanic/test.csv')\n",
    "test"
   ]
  },
  {
   "cell_type": "code",
   "execution_count": 4,
   "id": "8154249f",
   "metadata": {
    "execution": {
     "iopub.execute_input": "2023-04-26T18:06:59.758514Z",
     "iopub.status.busy": "2023-04-26T18:06:59.757524Z",
     "iopub.status.idle": "2023-04-26T18:06:59.781696Z",
     "shell.execute_reply": "2023-04-26T18:06:59.779508Z"
    },
    "papermill": {
     "duration": 0.041579,
     "end_time": "2023-04-26T18:06:59.785066",
     "exception": false,
     "start_time": "2023-04-26T18:06:59.743487",
     "status": "completed"
    },
    "tags": []
   },
   "outputs": [
    {
     "data": {
      "text/html": [
       "<div>\n",
       "<style scoped>\n",
       "    .dataframe tbody tr th:only-of-type {\n",
       "        vertical-align: middle;\n",
       "    }\n",
       "\n",
       "    .dataframe tbody tr th {\n",
       "        vertical-align: top;\n",
       "    }\n",
       "\n",
       "    .dataframe thead th {\n",
       "        text-align: right;\n",
       "    }\n",
       "</style>\n",
       "<table border=\"1\" class=\"dataframe\">\n",
       "  <thead>\n",
       "    <tr style=\"text-align: right;\">\n",
       "      <th></th>\n",
       "      <th>PassengerId</th>\n",
       "      <th>Survived</th>\n",
       "    </tr>\n",
       "  </thead>\n",
       "  <tbody>\n",
       "    <tr>\n",
       "      <th>0</th>\n",
       "      <td>892</td>\n",
       "      <td>0</td>\n",
       "    </tr>\n",
       "    <tr>\n",
       "      <th>1</th>\n",
       "      <td>893</td>\n",
       "      <td>1</td>\n",
       "    </tr>\n",
       "    <tr>\n",
       "      <th>2</th>\n",
       "      <td>894</td>\n",
       "      <td>0</td>\n",
       "    </tr>\n",
       "    <tr>\n",
       "      <th>3</th>\n",
       "      <td>895</td>\n",
       "      <td>0</td>\n",
       "    </tr>\n",
       "    <tr>\n",
       "      <th>4</th>\n",
       "      <td>896</td>\n",
       "      <td>1</td>\n",
       "    </tr>\n",
       "    <tr>\n",
       "      <th>...</th>\n",
       "      <td>...</td>\n",
       "      <td>...</td>\n",
       "    </tr>\n",
       "    <tr>\n",
       "      <th>413</th>\n",
       "      <td>1305</td>\n",
       "      <td>0</td>\n",
       "    </tr>\n",
       "    <tr>\n",
       "      <th>414</th>\n",
       "      <td>1306</td>\n",
       "      <td>1</td>\n",
       "    </tr>\n",
       "    <tr>\n",
       "      <th>415</th>\n",
       "      <td>1307</td>\n",
       "      <td>0</td>\n",
       "    </tr>\n",
       "    <tr>\n",
       "      <th>416</th>\n",
       "      <td>1308</td>\n",
       "      <td>0</td>\n",
       "    </tr>\n",
       "    <tr>\n",
       "      <th>417</th>\n",
       "      <td>1309</td>\n",
       "      <td>0</td>\n",
       "    </tr>\n",
       "  </tbody>\n",
       "</table>\n",
       "<p>418 rows × 2 columns</p>\n",
       "</div>"
      ],
      "text/plain": [
       "     PassengerId  Survived\n",
       "0            892         0\n",
       "1            893         1\n",
       "2            894         0\n",
       "3            895         0\n",
       "4            896         1\n",
       "..           ...       ...\n",
       "413         1305         0\n",
       "414         1306         1\n",
       "415         1307         0\n",
       "416         1308         0\n",
       "417         1309         0\n",
       "\n",
       "[418 rows x 2 columns]"
      ]
     },
     "execution_count": 4,
     "metadata": {},
     "output_type": "execute_result"
    }
   ],
   "source": [
    "gender_submission=pd.read_csv('/kaggle/input/titanic/gender_submission.csv')\n",
    "gender_submission"
   ]
  },
  {
   "cell_type": "code",
   "execution_count": 5,
   "id": "914a35b6",
   "metadata": {
    "execution": {
     "iopub.execute_input": "2023-04-26T18:06:59.819160Z",
     "iopub.status.busy": "2023-04-26T18:06:59.817523Z",
     "iopub.status.idle": "2023-04-26T18:06:59.829266Z",
     "shell.execute_reply": "2023-04-26T18:06:59.827801Z"
    },
    "papermill": {
     "duration": 0.033666,
     "end_time": "2023-04-26T18:06:59.832769",
     "exception": false,
     "start_time": "2023-04-26T18:06:59.799103",
     "status": "completed"
    },
    "tags": []
   },
   "outputs": [],
   "source": [
    "train.drop(columns=['Cabin'],inplace=True)\n",
    "test.drop(columns=['Cabin'],inplace=True)"
   ]
  },
  {
   "cell_type": "code",
   "execution_count": 6,
   "id": "a4d8a4d5",
   "metadata": {
    "execution": {
     "iopub.execute_input": "2023-04-26T18:06:59.872630Z",
     "iopub.status.busy": "2023-04-26T18:06:59.872222Z",
     "iopub.status.idle": "2023-04-26T18:06:59.881713Z",
     "shell.execute_reply": "2023-04-26T18:06:59.880844Z"
    },
    "papermill": {
     "duration": 0.03306,
     "end_time": "2023-04-26T18:06:59.883928",
     "exception": false,
     "start_time": "2023-04-26T18:06:59.850868",
     "status": "completed"
    },
    "tags": []
   },
   "outputs": [
    {
     "data": {
      "text/plain": [
       "PassengerId      0\n",
       "Survived         0\n",
       "Pclass           0\n",
       "Name             0\n",
       "Sex              0\n",
       "Age            177\n",
       "SibSp            0\n",
       "Parch            0\n",
       "Ticket           0\n",
       "Fare             0\n",
       "Embarked         2\n",
       "dtype: int64"
      ]
     },
     "execution_count": 6,
     "metadata": {},
     "output_type": "execute_result"
    }
   ],
   "source": [
    "train.isnull().sum()"
   ]
  },
  {
   "cell_type": "code",
   "execution_count": 7,
   "id": "6294f14d",
   "metadata": {
    "execution": {
     "iopub.execute_input": "2023-04-26T18:06:59.912834Z",
     "iopub.status.busy": "2023-04-26T18:06:59.912070Z",
     "iopub.status.idle": "2023-04-26T18:06:59.922286Z",
     "shell.execute_reply": "2023-04-26T18:06:59.921100Z"
    },
    "papermill": {
     "duration": 0.027804,
     "end_time": "2023-04-26T18:06:59.924910",
     "exception": false,
     "start_time": "2023-04-26T18:06:59.897106",
     "status": "completed"
    },
    "tags": []
   },
   "outputs": [
    {
     "data": {
      "text/plain": [
       "PassengerId     0\n",
       "Pclass          0\n",
       "Name            0\n",
       "Sex             0\n",
       "Age            86\n",
       "SibSp           0\n",
       "Parch           0\n",
       "Ticket          0\n",
       "Fare            1\n",
       "Embarked        0\n",
       "dtype: int64"
      ]
     },
     "execution_count": 7,
     "metadata": {},
     "output_type": "execute_result"
    }
   ],
   "source": [
    "test.isnull().sum()"
   ]
  },
  {
   "cell_type": "code",
   "execution_count": 8,
   "id": "797d8303",
   "metadata": {
    "execution": {
     "iopub.execute_input": "2023-04-26T18:06:59.953777Z",
     "iopub.status.busy": "2023-04-26T18:06:59.952825Z",
     "iopub.status.idle": "2023-04-26T18:06:59.968305Z",
     "shell.execute_reply": "2023-04-26T18:06:59.967114Z"
    },
    "papermill": {
     "duration": 0.032621,
     "end_time": "2023-04-26T18:06:59.970897",
     "exception": false,
     "start_time": "2023-04-26T18:06:59.938276",
     "status": "completed"
    },
    "tags": []
   },
   "outputs": [
    {
     "data": {
      "text/plain": [
       "S    644\n",
       "C    168\n",
       "Q     77\n",
       "Name: Embarked, dtype: int64"
      ]
     },
     "execution_count": 8,
     "metadata": {},
     "output_type": "execute_result"
    }
   ],
   "source": [
    "train['Embarked'].value_counts()"
   ]
  },
  {
   "cell_type": "code",
   "execution_count": 9,
   "id": "a024bc54",
   "metadata": {
    "execution": {
     "iopub.execute_input": "2023-04-26T18:06:59.999408Z",
     "iopub.status.busy": "2023-04-26T18:06:59.999016Z",
     "iopub.status.idle": "2023-04-26T18:07:00.004911Z",
     "shell.execute_reply": "2023-04-26T18:07:00.003702Z"
    },
    "papermill": {
     "duration": 0.023098,
     "end_time": "2023-04-26T18:07:00.007300",
     "exception": false,
     "start_time": "2023-04-26T18:06:59.984202",
     "status": "completed"
    },
    "tags": []
   },
   "outputs": [],
   "source": [
    "train['Embarked'].fillna('S',inplace=True)"
   ]
  },
  {
   "cell_type": "code",
   "execution_count": 10,
   "id": "14eaf465",
   "metadata": {
    "execution": {
     "iopub.execute_input": "2023-04-26T18:07:00.036586Z",
     "iopub.status.busy": "2023-04-26T18:07:00.035266Z",
     "iopub.status.idle": "2023-04-26T18:07:00.043140Z",
     "shell.execute_reply": "2023-04-26T18:07:00.042041Z"
    },
    "papermill": {
     "duration": 0.025598,
     "end_time": "2023-04-26T18:07:00.046194",
     "exception": false,
     "start_time": "2023-04-26T18:07:00.020596",
     "status": "completed"
    },
    "tags": []
   },
   "outputs": [],
   "source": [
    "test['Fare'].fillna(test['Fare'].mean(),inplace=True)"
   ]
  },
  {
   "cell_type": "code",
   "execution_count": 11,
   "id": "ff229a54",
   "metadata": {
    "execution": {
     "iopub.execute_input": "2023-04-26T18:07:00.074979Z",
     "iopub.status.busy": "2023-04-26T18:07:00.074568Z",
     "iopub.status.idle": "2023-04-26T18:07:01.580179Z",
     "shell.execute_reply": "2023-04-26T18:07:01.579190Z"
    },
    "papermill": {
     "duration": 1.522791,
     "end_time": "2023-04-26T18:07:01.582540",
     "exception": false,
     "start_time": "2023-04-26T18:07:00.059749",
     "status": "completed"
    },
    "tags": []
   },
   "outputs": [
    {
     "data": {
      "text/plain": [
       "<AxesSubplot:xlabel='Age', ylabel='Count'>"
      ]
     },
     "execution_count": 11,
     "metadata": {},
     "output_type": "execute_result"
    },
    {
     "data": {
      "image/png": "[encoded data removed]",
      "text/plain": [
       "<Figure size 640x480 with 1 Axes>"
      ]
     },
     "metadata": {},
     "output_type": "display_data"
    }
   ],
   "source": [
    "import seaborn as sns\n",
    "sns.histplot(train['Age'])"
   ]
  },
  {
   "cell_type": "code",
   "execution_count": 12,
   "id": "fd4929bf",
   "metadata": {
    "execution": {
     "iopub.execute_input": "2023-04-26T18:07:01.613826Z",
     "iopub.status.busy": "2023-04-26T18:07:01.612815Z",
     "iopub.status.idle": "2023-04-26T18:07:01.622690Z",
     "shell.execute_reply": "2023-04-26T18:07:01.621171Z"
    },
    "papermill": {
     "duration": 0.028661,
     "end_time": "2023-04-26T18:07:01.625442",
     "exception": false,
     "start_time": "2023-04-26T18:07:01.596781",
     "status": "completed"
    },
    "tags": []
   },
   "outputs": [],
   "source": [
    "train_age=np.random.randint(train['Age'].mean()-train['Age'].std(),train['Age'].mean()+train['Age'].std(),177)"
   ]
  },
  {
   "cell_type": "code",
   "execution_count": 13,
   "id": "e0da191e",
   "metadata": {
    "execution": {
     "iopub.execute_input": "2023-04-26T18:07:01.655480Z",
     "iopub.status.busy": "2023-04-26T18:07:01.654457Z",
     "iopub.status.idle": "2023-04-26T18:07:01.663924Z",
     "shell.execute_reply": "2023-04-26T18:07:01.663071Z"
    },
    "papermill": {
     "duration": 0.026647,
     "end_time": "2023-04-26T18:07:01.665940",
     "exception": false,
     "start_time": "2023-04-26T18:07:01.639293",
     "status": "completed"
    },
    "tags": []
   },
   "outputs": [
    {
     "data": {
      "text/plain": [
       "array([23, 28, 40, 28, 19, 20, 34, 23, 41, 16, 27, 37, 17, 35, 21, 39, 39,\n",
       "       32, 35, 29, 33, 41, 41, 33, 41, 28, 41, 24, 21, 28, 20, 19, 37, 22,\n",
       "       27, 40, 23, 33, 27, 28, 23, 34, 34, 40, 43, 30, 30, 36, 43, 20, 31,\n",
       "       20, 21, 19, 29, 39, 41, 25, 17, 42, 29, 25, 33, 18, 23, 27, 27, 33,\n",
       "       26, 26, 34, 40, 18, 24, 21, 25, 18, 26, 40, 22, 26, 20, 16, 25, 38,\n",
       "       27])"
      ]
     },
     "execution_count": 13,
     "metadata": {},
     "output_type": "execute_result"
    }
   ],
   "source": [
    "test_age=np.random.randint(test['Age'].mean()-test['Age'].std(),test['Age'].mean()+test['Age'].std(),86)\n",
    "test_age"
   ]
  },
  {
   "cell_type": "code",
   "execution_count": 14,
   "id": "1011570d",
   "metadata": {
    "execution": {
     "iopub.execute_input": "2023-04-26T18:07:01.696418Z",
     "iopub.status.busy": "2023-04-26T18:07:01.695749Z",
     "iopub.status.idle": "2023-04-26T18:07:01.706112Z",
     "shell.execute_reply": "2023-04-26T18:07:01.704064Z"
    },
    "papermill": {
     "duration": 0.028817,
     "end_time": "2023-04-26T18:07:01.708562",
     "exception": false,
     "start_time": "2023-04-26T18:07:01.679745",
     "status": "completed"
    },
    "tags": []
   },
   "outputs": [
    {
     "name": "stderr",
     "output_type": "stream",
     "text": [
      "/opt/conda/lib/python3.7/site-packages/ipykernel_launcher.py:1: SettingWithCopyWarning: \n",
      "A value is trying to be set on a copy of a slice from a DataFrame\n",
      "\n",
      "See the caveats in the documentation: https://pandas.pydata.org/pandas-docs/stable/user_guide/indexing.html#returning-a-view-versus-a-copy\n",
      "  \"\"\"Entry point for launching an IPython kernel.\n"
     ]
    }
   ],
   "source": [
    "train['Age'][train['Age'].isnull()]=train_age"
   ]
  },
  {
   "cell_type": "code",
   "execution_count": 15,
   "id": "20d5c769",
   "metadata": {
    "execution": {
     "iopub.execute_input": "2023-04-26T18:07:01.739822Z",
     "iopub.status.busy": "2023-04-26T18:07:01.738763Z",
     "iopub.status.idle": "2023-04-26T18:07:01.750056Z",
     "shell.execute_reply": "2023-04-26T18:07:01.748083Z"
    },
    "papermill": {
     "duration": 0.029582,
     "end_time": "2023-04-26T18:07:01.752651",
     "exception": false,
     "start_time": "2023-04-26T18:07:01.723069",
     "status": "completed"
    },
    "tags": []
   },
   "outputs": [
    {
     "name": "stderr",
     "output_type": "stream",
     "text": [
      "/opt/conda/lib/python3.7/site-packages/ipykernel_launcher.py:1: SettingWithCopyWarning: \n",
      "A value is trying to be set on a copy of a slice from a DataFrame\n",
      "\n",
      "See the caveats in the documentation: https://pandas.pydata.org/pandas-docs/stable/user_guide/indexing.html#returning-a-view-versus-a-copy\n",
      "  \"\"\"Entry point for launching an IPython kernel.\n"
     ]
    }
   ],
   "source": [
    "test['Age'][test['Age'].isnull()]=test_age"
   ]
  },
  {
   "cell_type": "code",
   "execution_count": 16,
   "id": "b3af0280",
   "metadata": {
    "execution": {
     "iopub.execute_input": "2023-04-26T18:07:01.783832Z",
     "iopub.status.busy": "2023-04-26T18:07:01.783353Z",
     "iopub.status.idle": "2023-04-26T18:07:01.795108Z",
     "shell.execute_reply": "2023-04-26T18:07:01.794149Z"
    },
    "papermill": {
     "duration": 0.030037,
     "end_time": "2023-04-26T18:07:01.797279",
     "exception": false,
     "start_time": "2023-04-26T18:07:01.767242",
     "status": "completed"
    },
    "tags": []
   },
   "outputs": [
    {
     "data": {
      "text/plain": [
       "Pclass\n",
       "1    0.629630\n",
       "2    0.472826\n",
       "3    0.242363\n",
       "Name: Survived, dtype: float64"
      ]
     },
     "execution_count": 16,
     "metadata": {},
     "output_type": "execute_result"
    }
   ],
   "source": [
    "train.groupby(['Pclass'])['Survived'].mean()"
   ]
  },
  {
   "cell_type": "markdown",
   "id": "a65f83ec",
   "metadata": {
    "papermill": {
     "duration": 0.013984,
     "end_time": "2023-04-26T18:07:01.826390",
     "exception": false,
     "start_time": "2023-04-26T18:07:01.812406",
     "status": "completed"
    },
    "tags": []
   },
   "source": []
  },
  {
   "cell_type": "code",
   "execution_count": 17,
   "id": "618ebb08",
   "metadata": {
    "execution": {
     "iopub.execute_input": "2023-04-26T18:07:01.856760Z",
     "iopub.status.busy": "2023-04-26T18:07:01.856339Z",
     "iopub.status.idle": "2023-04-26T18:07:01.865847Z",
     "shell.execute_reply": "2023-04-26T18:07:01.864781Z"
    },
    "papermill": {
     "duration": 0.027567,
     "end_time": "2023-04-26T18:07:01.868211",
     "exception": false,
     "start_time": "2023-04-26T18:07:01.840644",
     "status": "completed"
    },
    "tags": []
   },
   "outputs": [
    {
     "data": {
      "text/plain": [
       "Sex\n",
       "female    0.742038\n",
       "male      0.188908\n",
       "Name: Survived, dtype: float64"
      ]
     },
     "execution_count": 17,
     "metadata": {},
     "output_type": "execute_result"
    }
   ],
   "source": [
    "train.groupby(['Sex'])['Survived'].mean()"
   ]
  },
  {
   "cell_type": "code",
   "execution_count": 18,
   "id": "b8ddf148",
   "metadata": {
    "execution": {
     "iopub.execute_input": "2023-04-26T18:07:01.898480Z",
     "iopub.status.busy": "2023-04-26T18:07:01.898102Z",
     "iopub.status.idle": "2023-04-26T18:07:01.908516Z",
     "shell.execute_reply": "2023-04-26T18:07:01.907367Z"
    },
    "papermill": {
     "duration": 0.028602,
     "end_time": "2023-04-26T18:07:01.910959",
     "exception": false,
     "start_time": "2023-04-26T18:07:01.882357",
     "status": "completed"
    },
    "tags": []
   },
   "outputs": [
    {
     "data": {
      "text/plain": [
       "Embarked\n",
       "C    0.553571\n",
       "Q    0.389610\n",
       "S    0.339009\n",
       "Name: Survived, dtype: float64"
      ]
     },
     "execution_count": 18,
     "metadata": {},
     "output_type": "execute_result"
    }
   ],
   "source": [
    "train.groupby(['Embarked'])['Survived'].mean()"
   ]
  },
  {
   "cell_type": "code",
   "execution_count": 19,
   "id": "a03971e6",
   "metadata": {
    "execution": {
     "iopub.execute_input": "2023-04-26T18:07:01.941865Z",
     "iopub.status.busy": "2023-04-26T18:07:01.941203Z",
     "iopub.status.idle": "2023-04-26T18:07:02.292689Z",
     "shell.execute_reply": "2023-04-26T18:07:02.291595Z"
    },
    "papermill": {
     "duration": 0.370782,
     "end_time": "2023-04-26T18:07:02.296199",
     "exception": false,
     "start_time": "2023-04-26T18:07:01.925417",
     "status": "completed"
    },
    "tags": []
   },
   "outputs": [
    {
     "name": "stderr",
     "output_type": "stream",
     "text": [
      "/opt/conda/lib/python3.7/site-packages/ipykernel_launcher.py:1: UserWarning: \n",
      "\n",
      "`distplot` is a deprecated function and will be removed in seaborn v0.14.0.\n",
      "\n",
      "Please adapt your code to use either `displot` (a figure-level function with\n",
      "similar flexibility) or `histplot` (an axes-level function for histograms).\n",
      "\n",
      "For a guide to updating your code to use the new functions, please see\n",
      "https://gist.github.com/mwaskom/de44147ed2974457ad6372750bbe5751\n",
      "\n",
      "  \"\"\"Entry point for launching an IPython kernel.\n",
      "/opt/conda/lib/python3.7/site-packages/ipykernel_launcher.py:2: UserWarning: \n",
      "\n",
      "`distplot` is a deprecated function and will be removed in seaborn v0.14.0.\n",
      "\n",
      "Please adapt your code to use either `displot` (a figure-level function with\n",
      "similar flexibility) or `histplot` (an axes-level function for histograms).\n",
      "\n",
      "For a guide to updating your code to use the new functions, please see\n",
      "https://gist.github.com/mwaskom/de44147ed2974457ad6372750bbe5751\n",
      "\n",
      "  \n"
     ]
    },
    {
     "data": {
      "text/plain": [
       "<AxesSubplot:xlabel='Age', ylabel='Density'>"
      ]
     },
     "execution_count": 19,
     "metadata": {},
     "output_type": "execute_result"
    },
    {
     "data": {
      "image/png": "[encoded data removed]",
      "text/plain": [
       "<Figure size 640x480 with 1 Axes>"
      ]
     },
     "metadata": {},
     "output_type": "display_data"
    }
   ],
   "source": [
    "sns.distplot(train['Age'][train['Survived']==0])\n",
    "sns.distplot(train['Age'][train['Survived']==1])"
   ]
  },
  {
   "cell_type": "code",
   "execution_count": 20,
   "id": "c35c3334",
   "metadata": {
    "execution": {
     "iopub.execute_input": "2023-04-26T18:07:02.330747Z",
     "iopub.status.busy": "2023-04-26T18:07:02.330318Z",
     "iopub.status.idle": "2023-04-26T18:07:02.766645Z",
     "shell.execute_reply": "2023-04-26T18:07:02.765367Z"
    },
    "papermill": {
     "duration": 0.457273,
     "end_time": "2023-04-26T18:07:02.769360",
     "exception": false,
     "start_time": "2023-04-26T18:07:02.312087",
     "status": "completed"
    },
    "tags": []
   },
   "outputs": [
    {
     "name": "stderr",
     "output_type": "stream",
     "text": [
      "/opt/conda/lib/python3.7/site-packages/ipykernel_launcher.py:1: UserWarning: \n",
      "\n",
      "`distplot` is a deprecated function and will be removed in seaborn v0.14.0.\n",
      "\n",
      "Please adapt your code to use either `displot` (a figure-level function with\n",
      "similar flexibility) or `histplot` (an axes-level function for histograms).\n",
      "\n",
      "For a guide to updating your code to use the new functions, please see\n",
      "https://gist.github.com/mwaskom/de44147ed2974457ad6372750bbe5751\n",
      "\n",
      "  \"\"\"Entry point for launching an IPython kernel.\n",
      "/opt/conda/lib/python3.7/site-packages/ipykernel_launcher.py:2: UserWarning: \n",
      "\n",
      "`distplot` is a deprecated function and will be removed in seaborn v0.14.0.\n",
      "\n",
      "Please adapt your code to use either `displot` (a figure-level function with\n",
      "similar flexibility) or `histplot` (an axes-level function for histograms).\n",
      "\n",
      "For a guide to updating your code to use the new functions, please see\n",
      "https://gist.github.com/mwaskom/de44147ed2974457ad6372750bbe5751\n",
      "\n",
      "  \n"
     ]
    },
    {
     "data": {
      "text/plain": [
       "<AxesSubplot:xlabel='Fare', ylabel='Density'>"
      ]
     },
     "execution_count": 20,
     "metadata": {},
     "output_type": "execute_result"
    },
    {
     "data": {
      "image/png": "[encoded data removed]",
      "text/plain": [
       "<Figure size 640x480 with 1 Axes>"
      ]
     },
     "metadata": {},
     "output_type": "display_data"
    }
   ],
   "source": [
    "sns.distplot(train['Fare'][train['Survived']==0])\n",
    "sns.distplot(train['Fare'][train['Survived']==1])"
   ]
  },
  {
   "cell_type": "code",
   "execution_count": 21,
   "id": "cc4efcfb",
   "metadata": {
    "execution": {
     "iopub.execute_input": "2023-04-26T18:07:02.804146Z",
     "iopub.status.busy": "2023-04-26T18:07:02.803726Z",
     "iopub.status.idle": "2023-04-26T18:07:02.812028Z",
     "shell.execute_reply": "2023-04-26T18:07:02.810320Z"
    },
    "papermill": {
     "duration": 0.028354,
     "end_time": "2023-04-26T18:07:02.814452",
     "exception": false,
     "start_time": "2023-04-26T18:07:02.786098",
     "status": "completed"
    },
    "tags": []
   },
   "outputs": [],
   "source": [
    "train.drop(columns=['Ticket'], inplace=True)\n",
    "test.drop(columns=['Ticket'], inplace=True)"
   ]
  },
  {
   "cell_type": "code",
   "execution_count": 22,
   "id": "e8a6a6b3",
   "metadata": {
    "execution": {
     "iopub.execute_input": "2023-04-26T18:07:02.848510Z",
     "iopub.status.busy": "2023-04-26T18:07:02.848086Z",
     "iopub.status.idle": "2023-04-26T18:07:02.855098Z",
     "shell.execute_reply": "2023-04-26T18:07:02.853939Z"
    },
    "papermill": {
     "duration": 0.026721,
     "end_time": "2023-04-26T18:07:02.857365",
     "exception": false,
     "start_time": "2023-04-26T18:07:02.830644",
     "status": "completed"
    },
    "tags": []
   },
   "outputs": [],
   "source": [
    "train['Family']=train['SibSp']+train['Parch']+1"
   ]
  },
  {
   "cell_type": "code",
   "execution_count": 23,
   "id": "92feb140",
   "metadata": {
    "execution": {
     "iopub.execute_input": "2023-04-26T18:07:02.891428Z",
     "iopub.status.busy": "2023-04-26T18:07:02.891022Z",
     "iopub.status.idle": "2023-04-26T18:07:02.898056Z",
     "shell.execute_reply": "2023-04-26T18:07:02.896959Z"
    },
    "papermill": {
     "duration": 0.026769,
     "end_time": "2023-04-26T18:07:02.900345",
     "exception": false,
     "start_time": "2023-04-26T18:07:02.873576",
     "status": "completed"
    },
    "tags": []
   },
   "outputs": [],
   "source": [
    "test['Family']=test['SibSp']+test['Parch']+1"
   ]
  },
  {
   "cell_type": "code",
   "execution_count": 24,
   "id": "ddc5198a",
   "metadata": {
    "execution": {
     "iopub.execute_input": "2023-04-26T18:07:02.934440Z",
     "iopub.status.busy": "2023-04-26T18:07:02.934026Z",
     "iopub.status.idle": "2023-04-26T18:07:02.943684Z",
     "shell.execute_reply": "2023-04-26T18:07:02.942482Z"
    },
    "papermill": {
     "duration": 0.029489,
     "end_time": "2023-04-26T18:07:02.945926",
     "exception": false,
     "start_time": "2023-04-26T18:07:02.916437",
     "status": "completed"
    },
    "tags": []
   },
   "outputs": [
    {
     "data": {
      "text/plain": [
       "SibSp\n",
       "0    0.345395\n",
       "1    0.535885\n",
       "2    0.464286\n",
       "3    0.250000\n",
       "4    0.166667\n",
       "5    0.000000\n",
       "8    0.000000\n",
       "Name: Survived, dtype: float64"
      ]
     },
     "execution_count": 24,
     "metadata": {},
     "output_type": "execute_result"
    }
   ],
   "source": [
    "train.groupby(['SibSp'])['Survived'].mean()"
   ]
  },
  {
   "cell_type": "code",
   "execution_count": 25,
   "id": "9ef96826",
   "metadata": {
    "execution": {
     "iopub.execute_input": "2023-04-26T18:07:02.980334Z",
     "iopub.status.busy": "2023-04-26T18:07:02.979925Z",
     "iopub.status.idle": "2023-04-26T18:07:02.989922Z",
     "shell.execute_reply": "2023-04-26T18:07:02.988709Z"
    },
    "papermill": {
     "duration": 0.030296,
     "end_time": "2023-04-26T18:07:02.992370",
     "exception": false,
     "start_time": "2023-04-26T18:07:02.962074",
     "status": "completed"
    },
    "tags": []
   },
   "outputs": [
    {
     "data": {
      "text/plain": [
       "Parch\n",
       "0    0.343658\n",
       "1    0.550847\n",
       "2    0.500000\n",
       "3    0.600000\n",
       "4    0.000000\n",
       "5    0.200000\n",
       "6    0.000000\n",
       "Name: Survived, dtype: float64"
      ]
     },
     "execution_count": 25,
     "metadata": {},
     "output_type": "execute_result"
    }
   ],
   "source": [
    "train.groupby(['Parch'])['Survived'].mean()"
   ]
  },
  {
   "cell_type": "code",
   "execution_count": 26,
   "id": "479bad7b",
   "metadata": {
    "execution": {
     "iopub.execute_input": "2023-04-26T18:07:03.027929Z",
     "iopub.status.busy": "2023-04-26T18:07:03.026793Z",
     "iopub.status.idle": "2023-04-26T18:07:03.046798Z",
     "shell.execute_reply": "2023-04-26T18:07:03.045655Z"
    },
    "papermill": {
     "duration": 0.039941,
     "end_time": "2023-04-26T18:07:03.049016",
     "exception": false,
     "start_time": "2023-04-26T18:07:03.009075",
     "status": "completed"
    },
    "tags": []
   },
   "outputs": [
    {
     "data": {
      "text/html": [
       "<div>\n",
       "<style scoped>\n",
       "    .dataframe tbody tr th:only-of-type {\n",
       "        vertical-align: middle;\n",
       "    }\n",
       "\n",
       "    .dataframe tbody tr th {\n",
       "        vertical-align: top;\n",
       "    }\n",
       "\n",
       "    .dataframe thead th {\n",
       "        text-align: right;\n",
       "    }\n",
       "</style>\n",
       "<table border=\"1\" class=\"dataframe\">\n",
       "  <thead>\n",
       "    <tr style=\"text-align: right;\">\n",
       "      <th></th>\n",
       "      <th>PassengerId</th>\n",
       "      <th>Survived</th>\n",
       "      <th>Pclass</th>\n",
       "      <th>Age</th>\n",
       "      <th>SibSp</th>\n",
       "      <th>Parch</th>\n",
       "      <th>Fare</th>\n",
       "    </tr>\n",
       "    <tr>\n",
       "      <th>Family</th>\n",
       "      <th></th>\n",
       "      <th></th>\n",
       "      <th></th>\n",
       "      <th></th>\n",
       "      <th></th>\n",
       "      <th></th>\n",
       "      <th></th>\n",
       "    </tr>\n",
       "  </thead>\n",
       "  <tbody>\n",
       "    <tr>\n",
       "      <th>1</th>\n",
       "      <td>458.000000</td>\n",
       "      <td>0.303538</td>\n",
       "      <td>2.400372</td>\n",
       "      <td>31.316574</td>\n",
       "      <td>0.000000</td>\n",
       "      <td>0.000000</td>\n",
       "      <td>21.242689</td>\n",
       "    </tr>\n",
       "    <tr>\n",
       "      <th>2</th>\n",
       "      <td>412.838509</td>\n",
       "      <td>0.552795</td>\n",
       "      <td>1.919255</td>\n",
       "      <td>30.853540</td>\n",
       "      <td>0.763975</td>\n",
       "      <td>0.236025</td>\n",
       "      <td>49.894129</td>\n",
       "    </tr>\n",
       "    <tr>\n",
       "      <th>3</th>\n",
       "      <td>448.352941</td>\n",
       "      <td>0.578431</td>\n",
       "      <td>2.225490</td>\n",
       "      <td>26.120882</td>\n",
       "      <td>0.872549</td>\n",
       "      <td>1.127451</td>\n",
       "      <td>39.692482</td>\n",
       "    </tr>\n",
       "    <tr>\n",
       "      <th>4</th>\n",
       "      <td>514.344828</td>\n",
       "      <td>0.724138</td>\n",
       "      <td>2.068966</td>\n",
       "      <td>19.393793</td>\n",
       "      <td>1.344828</td>\n",
       "      <td>1.655172</td>\n",
       "      <td>54.864510</td>\n",
       "    </tr>\n",
       "    <tr>\n",
       "      <th>5</th>\n",
       "      <td>367.866667</td>\n",
       "      <td>0.200000</td>\n",
       "      <td>2.666667</td>\n",
       "      <td>23.466667</td>\n",
       "      <td>2.133333</td>\n",
       "      <td>1.866667</td>\n",
       "      <td>58.094453</td>\n",
       "    </tr>\n",
       "    <tr>\n",
       "      <th>6</th>\n",
       "      <td>400.136364</td>\n",
       "      <td>0.136364</td>\n",
       "      <td>2.590909</td>\n",
       "      <td>18.409091</td>\n",
       "      <td>2.818182</td>\n",
       "      <td>2.181818</td>\n",
       "      <td>73.722727</td>\n",
       "    </tr>\n",
       "    <tr>\n",
       "      <th>7</th>\n",
       "      <td>355.750000</td>\n",
       "      <td>0.333333</td>\n",
       "      <td>3.000000</td>\n",
       "      <td>15.166667</td>\n",
       "      <td>3.250000</td>\n",
       "      <td>2.750000</td>\n",
       "      <td>29.366667</td>\n",
       "    </tr>\n",
       "    <tr>\n",
       "      <th>8</th>\n",
       "      <td>393.833333</td>\n",
       "      <td>0.000000</td>\n",
       "      <td>3.000000</td>\n",
       "      <td>15.666667</td>\n",
       "      <td>4.333333</td>\n",
       "      <td>2.666667</td>\n",
       "      <td>46.900000</td>\n",
       "    </tr>\n",
       "    <tr>\n",
       "      <th>11</th>\n",
       "      <td>481.714286</td>\n",
       "      <td>0.000000</td>\n",
       "      <td>3.000000</td>\n",
       "      <td>29.428571</td>\n",
       "      <td>8.000000</td>\n",
       "      <td>2.000000</td>\n",
       "      <td>69.550000</td>\n",
       "    </tr>\n",
       "  </tbody>\n",
       "</table>\n",
       "</div>"
      ],
      "text/plain": [
       "        PassengerId  Survived    Pclass        Age     SibSp     Parch  \\\n",
       "Family                                                                   \n",
       "1        458.000000  0.303538  2.400372  31.316574  0.000000  0.000000   \n",
       "2        412.838509  0.552795  1.919255  30.853540  0.763975  0.236025   \n",
       "3        448.352941  0.578431  2.225490  26.120882  0.872549  1.127451   \n",
       "4        514.344828  0.724138  2.068966  19.393793  1.344828  1.655172   \n",
       "5        367.866667  0.200000  2.666667  23.466667  2.133333  1.866667   \n",
       "6        400.136364  0.136364  2.590909  18.409091  2.818182  2.181818   \n",
       "7        355.750000  0.333333  3.000000  15.166667  3.250000  2.750000   \n",
       "8        393.833333  0.000000  3.000000  15.666667  4.333333  2.666667   \n",
       "11       481.714286  0.000000  3.000000  29.428571  8.000000  2.000000   \n",
       "\n",
       "             Fare  \n",
       "Family             \n",
       "1       21.242689  \n",
       "2       49.894129  \n",
       "3       39.692482  \n",
       "4       54.864510  \n",
       "5       58.094453  \n",
       "6       73.722727  \n",
       "7       29.366667  \n",
       "8       46.900000  \n",
       "11      69.550000  "
      ]
     },
     "execution_count": 26,
     "metadata": {},
     "output_type": "execute_result"
    }
   ],
   "source": [
    "train.groupby(['Family']).mean()"
   ]
  },
  {
   "cell_type": "code",
   "execution_count": 27,
   "id": "90a47e75",
   "metadata": {
    "execution": {
     "iopub.execute_input": "2023-04-26T18:07:03.084831Z",
     "iopub.status.busy": "2023-04-26T18:07:03.084413Z",
     "iopub.status.idle": "2023-04-26T18:07:03.090356Z",
     "shell.execute_reply": "2023-04-26T18:07:03.089195Z"
    },
    "papermill": {
     "duration": 0.027196,
     "end_time": "2023-04-26T18:07:03.092926",
     "exception": false,
     "start_time": "2023-04-26T18:07:03.065730",
     "status": "completed"
    },
    "tags": []
   },
   "outputs": [],
   "source": [
    "def cal(number):\n",
    "    if number==1:\n",
    "        return 'Alone'\n",
    "    elif number>1 and number<5:\n",
    "        return 'Medium'\n",
    "    else:\n",
    "        return 'Large'"
   ]
  },
  {
   "cell_type": "code",
   "execution_count": 28,
   "id": "091e317b",
   "metadata": {
    "execution": {
     "iopub.execute_input": "2023-04-26T18:07:03.128622Z",
     "iopub.status.busy": "2023-04-26T18:07:03.128170Z",
     "iopub.status.idle": "2023-04-26T18:07:03.136080Z",
     "shell.execute_reply": "2023-04-26T18:07:03.134829Z"
    },
    "papermill": {
     "duration": 0.028453,
     "end_time": "2023-04-26T18:07:03.138440",
     "exception": false,
     "start_time": "2023-04-26T18:07:03.109987",
     "status": "completed"
    },
    "tags": []
   },
   "outputs": [],
   "source": [
    "train['Family_Size']=train['Family'].apply(cal)"
   ]
  },
  {
   "cell_type": "code",
   "execution_count": 29,
   "id": "b06d7ec9",
   "metadata": {
    "execution": {
     "iopub.execute_input": "2023-04-26T18:07:03.173504Z",
     "iopub.status.busy": "2023-04-26T18:07:03.173094Z",
     "iopub.status.idle": "2023-04-26T18:07:03.180341Z",
     "shell.execute_reply": "2023-04-26T18:07:03.178876Z"
    },
    "papermill": {
     "duration": 0.027986,
     "end_time": "2023-04-26T18:07:03.182905",
     "exception": false,
     "start_time": "2023-04-26T18:07:03.154919",
     "status": "completed"
    },
    "tags": []
   },
   "outputs": [],
   "source": [
    "test['Family_Size']=test['Family'].apply(cal)"
   ]
  },
  {
   "cell_type": "code",
   "execution_count": 30,
   "id": "6e8b65f4",
   "metadata": {
    "execution": {
     "iopub.execute_input": "2023-04-26T18:07:03.218413Z",
     "iopub.status.busy": "2023-04-26T18:07:03.218038Z",
     "iopub.status.idle": "2023-04-26T18:07:03.241632Z",
     "shell.execute_reply": "2023-04-26T18:07:03.240785Z"
    },
    "papermill": {
     "duration": 0.043928,
     "end_time": "2023-04-26T18:07:03.243808",
     "exception": false,
     "start_time": "2023-04-26T18:07:03.199880",
     "status": "completed"
    },
    "tags": []
   },
   "outputs": [
    {
     "data": {
      "text/html": [
       "<div>\n",
       "<style scoped>\n",
       "    .dataframe tbody tr th:only-of-type {\n",
       "        vertical-align: middle;\n",
       "    }\n",
       "\n",
       "    .dataframe tbody tr th {\n",
       "        vertical-align: top;\n",
       "    }\n",
       "\n",
       "    .dataframe thead th {\n",
       "        text-align: right;\n",
       "    }\n",
       "</style>\n",
       "<table border=\"1\" class=\"dataframe\">\n",
       "  <thead>\n",
       "    <tr style=\"text-align: right;\">\n",
       "      <th></th>\n",
       "      <th>PassengerId</th>\n",
       "      <th>Survived</th>\n",
       "      <th>Pclass</th>\n",
       "      <th>Name</th>\n",
       "      <th>Sex</th>\n",
       "      <th>Age</th>\n",
       "      <th>SibSp</th>\n",
       "      <th>Parch</th>\n",
       "      <th>Fare</th>\n",
       "      <th>Embarked</th>\n",
       "      <th>Family</th>\n",
       "      <th>Family_Size</th>\n",
       "    </tr>\n",
       "  </thead>\n",
       "  <tbody>\n",
       "    <tr>\n",
       "      <th>0</th>\n",
       "      <td>1</td>\n",
       "      <td>0</td>\n",
       "      <td>3</td>\n",
       "      <td>Braund, Mr. Owen Harris</td>\n",
       "      <td>male</td>\n",
       "      <td>22.0</td>\n",
       "      <td>1</td>\n",
       "      <td>0</td>\n",
       "      <td>7.2500</td>\n",
       "      <td>S</td>\n",
       "      <td>2</td>\n",
       "      <td>Medium</td>\n",
       "    </tr>\n",
       "    <tr>\n",
       "      <th>1</th>\n",
       "      <td>2</td>\n",
       "      <td>1</td>\n",
       "      <td>1</td>\n",
       "      <td>Cumings, Mrs. John Bradley (Florence Briggs Th...</td>\n",
       "      <td>female</td>\n",
       "      <td>38.0</td>\n",
       "      <td>1</td>\n",
       "      <td>0</td>\n",
       "      <td>71.2833</td>\n",
       "      <td>C</td>\n",
       "      <td>2</td>\n",
       "      <td>Medium</td>\n",
       "    </tr>\n",
       "    <tr>\n",
       "      <th>2</th>\n",
       "      <td>3</td>\n",
       "      <td>1</td>\n",
       "      <td>3</td>\n",
       "      <td>Heikkinen, Miss. Laina</td>\n",
       "      <td>female</td>\n",
       "      <td>26.0</td>\n",
       "      <td>0</td>\n",
       "      <td>0</td>\n",
       "      <td>7.9250</td>\n",
       "      <td>S</td>\n",
       "      <td>1</td>\n",
       "      <td>Alone</td>\n",
       "    </tr>\n",
       "    <tr>\n",
       "      <th>3</th>\n",
       "      <td>4</td>\n",
       "      <td>1</td>\n",
       "      <td>1</td>\n",
       "      <td>Futrelle, Mrs. Jacques Heath (Lily May Peel)</td>\n",
       "      <td>female</td>\n",
       "      <td>35.0</td>\n",
       "      <td>1</td>\n",
       "      <td>0</td>\n",
       "      <td>53.1000</td>\n",
       "      <td>S</td>\n",
       "      <td>2</td>\n",
       "      <td>Medium</td>\n",
       "    </tr>\n",
       "    <tr>\n",
       "      <th>4</th>\n",
       "      <td>5</td>\n",
       "      <td>0</td>\n",
       "      <td>3</td>\n",
       "      <td>Allen, Mr. William Henry</td>\n",
       "      <td>male</td>\n",
       "      <td>35.0</td>\n",
       "      <td>0</td>\n",
       "      <td>0</td>\n",
       "      <td>8.0500</td>\n",
       "      <td>S</td>\n",
       "      <td>1</td>\n",
       "      <td>Alone</td>\n",
       "    </tr>\n",
       "    <tr>\n",
       "      <th>...</th>\n",
       "      <td>...</td>\n",
       "      <td>...</td>\n",
       "      <td>...</td>\n",
       "      <td>...</td>\n",
       "      <td>...</td>\n",
       "      <td>...</td>\n",
       "      <td>...</td>\n",
       "      <td>...</td>\n",
       "      <td>...</td>\n",
       "      <td>...</td>\n",
       "      <td>...</td>\n",
       "      <td>...</td>\n",
       "    </tr>\n",
       "    <tr>\n",
       "      <th>886</th>\n",
       "      <td>887</td>\n",
       "      <td>0</td>\n",
       "      <td>2</td>\n",
       "      <td>Montvila, Rev. Juozas</td>\n",
       "      <td>male</td>\n",
       "      <td>27.0</td>\n",
       "      <td>0</td>\n",
       "      <td>0</td>\n",
       "      <td>13.0000</td>\n",
       "      <td>S</td>\n",
       "      <td>1</td>\n",
       "      <td>Alone</td>\n",
       "    </tr>\n",
       "    <tr>\n",
       "      <th>887</th>\n",
       "      <td>888</td>\n",
       "      <td>1</td>\n",
       "      <td>1</td>\n",
       "      <td>Graham, Miss. Margaret Edith</td>\n",
       "      <td>female</td>\n",
       "      <td>19.0</td>\n",
       "      <td>0</td>\n",
       "      <td>0</td>\n",
       "      <td>30.0000</td>\n",
       "      <td>S</td>\n",
       "      <td>1</td>\n",
       "      <td>Alone</td>\n",
       "    </tr>\n",
       "    <tr>\n",
       "      <th>888</th>\n",
       "      <td>889</td>\n",
       "      <td>0</td>\n",
       "      <td>3</td>\n",
       "      <td>Johnston, Miss. Catherine Helen \"Carrie\"</td>\n",
       "      <td>female</td>\n",
       "      <td>29.0</td>\n",
       "      <td>1</td>\n",
       "      <td>2</td>\n",
       "      <td>23.4500</td>\n",
       "      <td>S</td>\n",
       "      <td>4</td>\n",
       "      <td>Medium</td>\n",
       "    </tr>\n",
       "    <tr>\n",
       "      <th>889</th>\n",
       "      <td>890</td>\n",
       "      <td>1</td>\n",
       "      <td>1</td>\n",
       "      <td>Behr, Mr. Karl Howell</td>\n",
       "      <td>male</td>\n",
       "      <td>26.0</td>\n",
       "      <td>0</td>\n",
       "      <td>0</td>\n",
       "      <td>30.0000</td>\n",
       "      <td>C</td>\n",
       "      <td>1</td>\n",
       "      <td>Alone</td>\n",
       "    </tr>\n",
       "    <tr>\n",
       "      <th>890</th>\n",
       "      <td>891</td>\n",
       "      <td>0</td>\n",
       "      <td>3</td>\n",
       "      <td>Dooley, Mr. Patrick</td>\n",
       "      <td>male</td>\n",
       "      <td>32.0</td>\n",
       "      <td>0</td>\n",
       "      <td>0</td>\n",
       "      <td>7.7500</td>\n",
       "      <td>Q</td>\n",
       "      <td>1</td>\n",
       "      <td>Alone</td>\n",
       "    </tr>\n",
       "  </tbody>\n",
       "</table>\n",
       "<p>891 rows × 12 columns</p>\n",
       "</div>"
      ],
      "text/plain": [
       "     PassengerId  Survived  Pclass  \\\n",
       "0              1         0       3   \n",
       "1              2         1       1   \n",
       "2              3         1       3   \n",
       "3              4         1       1   \n",
       "4              5         0       3   \n",
       "..           ...       ...     ...   \n",
       "886          887         0       2   \n",
       "887          888         1       1   \n",
       "888          889         0       3   \n",
       "889          890         1       1   \n",
       "890          891         0       3   \n",
       "\n",
       "                                                  Name     Sex   Age  SibSp  \\\n",
       "0                              Braund, Mr. Owen Harris    male  22.0      1   \n",
       "1    Cumings, Mrs. John Bradley (Florence Briggs Th...  female  38.0      1   \n",
       "2                               Heikkinen, Miss. Laina  female  26.0      0   \n",
       "3         Futrelle, Mrs. Jacques Heath (Lily May Peel)  female  35.0      1   \n",
       "4                             Allen, Mr. William Henry    male  35.0      0   \n",
       "..                                                 ...     ...   ...    ...   \n",
       "886                              Montvila, Rev. Juozas    male  27.0      0   \n",
       "887                       Graham, Miss. Margaret Edith  female  19.0      0   \n",
       "888           Johnston, Miss. Catherine Helen \"Carrie\"  female  29.0      1   \n",
       "889                              Behr, Mr. Karl Howell    male  26.0      0   \n",
       "890                                Dooley, Mr. Patrick    male  32.0      0   \n",
       "\n",
       "     Parch     Fare Embarked  Family Family_Size  \n",
       "0        0   7.2500        S       2      Medium  \n",
       "1        0  71.2833        C       2      Medium  \n",
       "2        0   7.9250        S       1       Alone  \n",
       "3        0  53.1000        S       2      Medium  \n",
       "4        0   8.0500        S       1       Alone  \n",
       "..     ...      ...      ...     ...         ...  \n",
       "886      0  13.0000        S       1       Alone  \n",
       "887      0  30.0000        S       1       Alone  \n",
       "888      2  23.4500        S       4      Medium  \n",
       "889      0  30.0000        C       1       Alone  \n",
       "890      0   7.7500        Q       1       Alone  \n",
       "\n",
       "[891 rows x 12 columns]"
      ]
     },
     "execution_count": 30,
     "metadata": {},
     "output_type": "execute_result"
    }
   ],
   "source": [
    "train"
   ]
  },
  {
   "cell_type": "code",
   "execution_count": 31,
   "id": "c400545a",
   "metadata": {
    "execution": {
     "iopub.execute_input": "2023-04-26T18:07:03.280005Z",
     "iopub.status.busy": "2023-04-26T18:07:03.279003Z",
     "iopub.status.idle": "2023-04-26T18:07:03.287627Z",
     "shell.execute_reply": "2023-04-26T18:07:03.286481Z"
    },
    "papermill": {
     "duration": 0.029145,
     "end_time": "2023-04-26T18:07:03.290022",
     "exception": false,
     "start_time": "2023-04-26T18:07:03.260877",
     "status": "completed"
    },
    "tags": []
   },
   "outputs": [],
   "source": [
    "train.drop(columns=['SibSp','Parch','Family'], inplace=True)\n",
    "test.drop(columns=['SibSp','Parch','Family'], inplace=True)"
   ]
  },
  {
   "cell_type": "code",
   "execution_count": 32,
   "id": "5615081f",
   "metadata": {
    "execution": {
     "iopub.execute_input": "2023-04-26T18:07:03.325119Z",
     "iopub.status.busy": "2023-04-26T18:07:03.324710Z",
     "iopub.status.idle": "2023-04-26T18:07:03.344841Z",
     "shell.execute_reply": "2023-04-26T18:07:03.344034Z"
    },
    "papermill": {
     "duration": 0.040279,
     "end_time": "2023-04-26T18:07:03.346992",
     "exception": false,
     "start_time": "2023-04-26T18:07:03.306713",
     "status": "completed"
    },
    "tags": []
   },
   "outputs": [
    {
     "data": {
      "text/html": [
       "<div>\n",
       "<style scoped>\n",
       "    .dataframe tbody tr th:only-of-type {\n",
       "        vertical-align: middle;\n",
       "    }\n",
       "\n",
       "    .dataframe tbody tr th {\n",
       "        vertical-align: top;\n",
       "    }\n",
       "\n",
       "    .dataframe thead th {\n",
       "        text-align: right;\n",
       "    }\n",
       "</style>\n",
       "<table border=\"1\" class=\"dataframe\">\n",
       "  <thead>\n",
       "    <tr style=\"text-align: right;\">\n",
       "      <th></th>\n",
       "      <th>PassengerId</th>\n",
       "      <th>Survived</th>\n",
       "      <th>Pclass</th>\n",
       "      <th>Name</th>\n",
       "      <th>Sex</th>\n",
       "      <th>Age</th>\n",
       "      <th>Fare</th>\n",
       "      <th>Embarked</th>\n",
       "      <th>Family_Size</th>\n",
       "    </tr>\n",
       "  </thead>\n",
       "  <tbody>\n",
       "    <tr>\n",
       "      <th>0</th>\n",
       "      <td>1</td>\n",
       "      <td>0</td>\n",
       "      <td>3</td>\n",
       "      <td>Braund, Mr. Owen Harris</td>\n",
       "      <td>male</td>\n",
       "      <td>22.0</td>\n",
       "      <td>7.2500</td>\n",
       "      <td>S</td>\n",
       "      <td>Medium</td>\n",
       "    </tr>\n",
       "    <tr>\n",
       "      <th>1</th>\n",
       "      <td>2</td>\n",
       "      <td>1</td>\n",
       "      <td>1</td>\n",
       "      <td>Cumings, Mrs. John Bradley (Florence Briggs Th...</td>\n",
       "      <td>female</td>\n",
       "      <td>38.0</td>\n",
       "      <td>71.2833</td>\n",
       "      <td>C</td>\n",
       "      <td>Medium</td>\n",
       "    </tr>\n",
       "    <tr>\n",
       "      <th>2</th>\n",
       "      <td>3</td>\n",
       "      <td>1</td>\n",
       "      <td>3</td>\n",
       "      <td>Heikkinen, Miss. Laina</td>\n",
       "      <td>female</td>\n",
       "      <td>26.0</td>\n",
       "      <td>7.9250</td>\n",
       "      <td>S</td>\n",
       "      <td>Alone</td>\n",
       "    </tr>\n",
       "    <tr>\n",
       "      <th>3</th>\n",
       "      <td>4</td>\n",
       "      <td>1</td>\n",
       "      <td>1</td>\n",
       "      <td>Futrelle, Mrs. Jacques Heath (Lily May Peel)</td>\n",
       "      <td>female</td>\n",
       "      <td>35.0</td>\n",
       "      <td>53.1000</td>\n",
       "      <td>S</td>\n",
       "      <td>Medium</td>\n",
       "    </tr>\n",
       "    <tr>\n",
       "      <th>4</th>\n",
       "      <td>5</td>\n",
       "      <td>0</td>\n",
       "      <td>3</td>\n",
       "      <td>Allen, Mr. William Henry</td>\n",
       "      <td>male</td>\n",
       "      <td>35.0</td>\n",
       "      <td>8.0500</td>\n",
       "      <td>S</td>\n",
       "      <td>Alone</td>\n",
       "    </tr>\n",
       "    <tr>\n",
       "      <th>...</th>\n",
       "      <td>...</td>\n",
       "      <td>...</td>\n",
       "      <td>...</td>\n",
       "      <td>...</td>\n",
       "      <td>...</td>\n",
       "      <td>...</td>\n",
       "      <td>...</td>\n",
       "      <td>...</td>\n",
       "      <td>...</td>\n",
       "    </tr>\n",
       "    <tr>\n",
       "      <th>886</th>\n",
       "      <td>887</td>\n",
       "      <td>0</td>\n",
       "      <td>2</td>\n",
       "      <td>Montvila, Rev. Juozas</td>\n",
       "      <td>male</td>\n",
       "      <td>27.0</td>\n",
       "      <td>13.0000</td>\n",
       "      <td>S</td>\n",
       "      <td>Alone</td>\n",
       "    </tr>\n",
       "    <tr>\n",
       "      <th>887</th>\n",
       "      <td>888</td>\n",
       "      <td>1</td>\n",
       "      <td>1</td>\n",
       "      <td>Graham, Miss. Margaret Edith</td>\n",
       "      <td>female</td>\n",
       "      <td>19.0</td>\n",
       "      <td>30.0000</td>\n",
       "      <td>S</td>\n",
       "      <td>Alone</td>\n",
       "    </tr>\n",
       "    <tr>\n",
       "      <th>888</th>\n",
       "      <td>889</td>\n",
       "      <td>0</td>\n",
       "      <td>3</td>\n",
       "      <td>Johnston, Miss. Catherine Helen \"Carrie\"</td>\n",
       "      <td>female</td>\n",
       "      <td>29.0</td>\n",
       "      <td>23.4500</td>\n",
       "      <td>S</td>\n",
       "      <td>Medium</td>\n",
       "    </tr>\n",
       "    <tr>\n",
       "      <th>889</th>\n",
       "      <td>890</td>\n",
       "      <td>1</td>\n",
       "      <td>1</td>\n",
       "      <td>Behr, Mr. Karl Howell</td>\n",
       "      <td>male</td>\n",
       "      <td>26.0</td>\n",
       "      <td>30.0000</td>\n",
       "      <td>C</td>\n",
       "      <td>Alone</td>\n",
       "    </tr>\n",
       "    <tr>\n",
       "      <th>890</th>\n",
       "      <td>891</td>\n",
       "      <td>0</td>\n",
       "      <td>3</td>\n",
       "      <td>Dooley, Mr. Patrick</td>\n",
       "      <td>male</td>\n",
       "      <td>32.0</td>\n",
       "      <td>7.7500</td>\n",
       "      <td>Q</td>\n",
       "      <td>Alone</td>\n",
       "    </tr>\n",
       "  </tbody>\n",
       "</table>\n",
       "<p>891 rows × 9 columns</p>\n",
       "</div>"
      ],
      "text/plain": [
       "     PassengerId  Survived  Pclass  \\\n",
       "0              1         0       3   \n",
       "1              2         1       1   \n",
       "2              3         1       3   \n",
       "3              4         1       1   \n",
       "4              5         0       3   \n",
       "..           ...       ...     ...   \n",
       "886          887         0       2   \n",
       "887          888         1       1   \n",
       "888          889         0       3   \n",
       "889          890         1       1   \n",
       "890          891         0       3   \n",
       "\n",
       "                                                  Name     Sex   Age     Fare  \\\n",
       "0                              Braund, Mr. Owen Harris    male  22.0   7.2500   \n",
       "1    Cumings, Mrs. John Bradley (Florence Briggs Th...  female  38.0  71.2833   \n",
       "2                               Heikkinen, Miss. Laina  female  26.0   7.9250   \n",
       "3         Futrelle, Mrs. Jacques Heath (Lily May Peel)  female  35.0  53.1000   \n",
       "4                             Allen, Mr. William Henry    male  35.0   8.0500   \n",
       "..                                                 ...     ...   ...      ...   \n",
       "886                              Montvila, Rev. Juozas    male  27.0  13.0000   \n",
       "887                       Graham, Miss. Margaret Edith  female  19.0  30.0000   \n",
       "888           Johnston, Miss. Catherine Helen \"Carrie\"  female  29.0  23.4500   \n",
       "889                              Behr, Mr. Karl Howell    male  26.0  30.0000   \n",
       "890                                Dooley, Mr. Patrick    male  32.0   7.7500   \n",
       "\n",
       "    Embarked Family_Size  \n",
       "0          S      Medium  \n",
       "1          C      Medium  \n",
       "2          S       Alone  \n",
       "3          S      Medium  \n",
       "4          S       Alone  \n",
       "..       ...         ...  \n",
       "886        S       Alone  \n",
       "887        S       Alone  \n",
       "888        S      Medium  \n",
       "889        C       Alone  \n",
       "890        Q       Alone  \n",
       "\n",
       "[891 rows x 9 columns]"
      ]
     },
     "execution_count": 32,
     "metadata": {},
     "output_type": "execute_result"
    }
   ],
   "source": [
    "train"
   ]
  },
  {
   "cell_type": "code",
   "execution_count": 33,
   "id": "a8b66227",
   "metadata": {
    "execution": {
     "iopub.execute_input": "2023-04-26T18:07:03.382700Z",
     "iopub.status.busy": "2023-04-26T18:07:03.382266Z",
     "iopub.status.idle": "2023-04-26T18:07:03.403381Z",
     "shell.execute_reply": "2023-04-26T18:07:03.402382Z"
    },
    "papermill": {
     "duration": 0.041634,
     "end_time": "2023-04-26T18:07:03.405638",
     "exception": false,
     "start_time": "2023-04-26T18:07:03.364004",
     "status": "completed"
    },
    "tags": []
   },
   "outputs": [
    {
     "data": {
      "text/html": [
       "<div>\n",
       "<style scoped>\n",
       "    .dataframe tbody tr th:only-of-type {\n",
       "        vertical-align: middle;\n",
       "    }\n",
       "\n",
       "    .dataframe tbody tr th {\n",
       "        vertical-align: top;\n",
       "    }\n",
       "\n",
       "    .dataframe thead th {\n",
       "        text-align: right;\n",
       "    }\n",
       "</style>\n",
       "<table border=\"1\" class=\"dataframe\">\n",
       "  <thead>\n",
       "    <tr style=\"text-align: right;\">\n",
       "      <th></th>\n",
       "      <th>PassengerId</th>\n",
       "      <th>Pclass</th>\n",
       "      <th>Name</th>\n",
       "      <th>Sex</th>\n",
       "      <th>Age</th>\n",
       "      <th>Fare</th>\n",
       "      <th>Embarked</th>\n",
       "      <th>Family_Size</th>\n",
       "    </tr>\n",
       "  </thead>\n",
       "  <tbody>\n",
       "    <tr>\n",
       "      <th>0</th>\n",
       "      <td>892</td>\n",
       "      <td>3</td>\n",
       "      <td>Kelly, Mr. James</td>\n",
       "      <td>male</td>\n",
       "      <td>34.5</td>\n",
       "      <td>7.8292</td>\n",
       "      <td>Q</td>\n",
       "      <td>Alone</td>\n",
       "    </tr>\n",
       "    <tr>\n",
       "      <th>1</th>\n",
       "      <td>893</td>\n",
       "      <td>3</td>\n",
       "      <td>Wilkes, Mrs. James (Ellen Needs)</td>\n",
       "      <td>female</td>\n",
       "      <td>47.0</td>\n",
       "      <td>7.0000</td>\n",
       "      <td>S</td>\n",
       "      <td>Medium</td>\n",
       "    </tr>\n",
       "    <tr>\n",
       "      <th>2</th>\n",
       "      <td>894</td>\n",
       "      <td>2</td>\n",
       "      <td>Myles, Mr. Thomas Francis</td>\n",
       "      <td>male</td>\n",
       "      <td>62.0</td>\n",
       "      <td>9.6875</td>\n",
       "      <td>Q</td>\n",
       "      <td>Alone</td>\n",
       "    </tr>\n",
       "    <tr>\n",
       "      <th>3</th>\n",
       "      <td>895</td>\n",
       "      <td>3</td>\n",
       "      <td>Wirz, Mr. Albert</td>\n",
       "      <td>male</td>\n",
       "      <td>27.0</td>\n",
       "      <td>8.6625</td>\n",
       "      <td>S</td>\n",
       "      <td>Alone</td>\n",
       "    </tr>\n",
       "    <tr>\n",
       "      <th>4</th>\n",
       "      <td>896</td>\n",
       "      <td>3</td>\n",
       "      <td>Hirvonen, Mrs. Alexander (Helga E Lindqvist)</td>\n",
       "      <td>female</td>\n",
       "      <td>22.0</td>\n",
       "      <td>12.2875</td>\n",
       "      <td>S</td>\n",
       "      <td>Medium</td>\n",
       "    </tr>\n",
       "    <tr>\n",
       "      <th>...</th>\n",
       "      <td>...</td>\n",
       "      <td>...</td>\n",
       "      <td>...</td>\n",
       "      <td>...</td>\n",
       "      <td>...</td>\n",
       "      <td>...</td>\n",
       "      <td>...</td>\n",
       "      <td>...</td>\n",
       "    </tr>\n",
       "    <tr>\n",
       "      <th>413</th>\n",
       "      <td>1305</td>\n",
       "      <td>3</td>\n",
       "      <td>Spector, Mr. Woolf</td>\n",
       "      <td>male</td>\n",
       "      <td>25.0</td>\n",
       "      <td>8.0500</td>\n",
       "      <td>S</td>\n",
       "      <td>Alone</td>\n",
       "    </tr>\n",
       "    <tr>\n",
       "      <th>414</th>\n",
       "      <td>1306</td>\n",
       "      <td>1</td>\n",
       "      <td>Oliva y Ocana, Dona. Fermina</td>\n",
       "      <td>female</td>\n",
       "      <td>39.0</td>\n",
       "      <td>108.9000</td>\n",
       "      <td>C</td>\n",
       "      <td>Alone</td>\n",
       "    </tr>\n",
       "    <tr>\n",
       "      <th>415</th>\n",
       "      <td>1307</td>\n",
       "      <td>3</td>\n",
       "      <td>Saether, Mr. Simon Sivertsen</td>\n",
       "      <td>male</td>\n",
       "      <td>38.5</td>\n",
       "      <td>7.2500</td>\n",
       "      <td>S</td>\n",
       "      <td>Alone</td>\n",
       "    </tr>\n",
       "    <tr>\n",
       "      <th>416</th>\n",
       "      <td>1308</td>\n",
       "      <td>3</td>\n",
       "      <td>Ware, Mr. Frederick</td>\n",
       "      <td>male</td>\n",
       "      <td>38.0</td>\n",
       "      <td>8.0500</td>\n",
       "      <td>S</td>\n",
       "      <td>Alone</td>\n",
       "    </tr>\n",
       "    <tr>\n",
       "      <th>417</th>\n",
       "      <td>1309</td>\n",
       "      <td>3</td>\n",
       "      <td>Peter, Master. Michael J</td>\n",
       "      <td>male</td>\n",
       "      <td>27.0</td>\n",
       "      <td>22.3583</td>\n",
       "      <td>C</td>\n",
       "      <td>Medium</td>\n",
       "    </tr>\n",
       "  </tbody>\n",
       "</table>\n",
       "<p>418 rows × 8 columns</p>\n",
       "</div>"
      ],
      "text/plain": [
       "     PassengerId  Pclass                                          Name  \\\n",
       "0            892       3                              Kelly, Mr. James   \n",
       "1            893       3              Wilkes, Mrs. James (Ellen Needs)   \n",
       "2            894       2                     Myles, Mr. Thomas Francis   \n",
       "3            895       3                              Wirz, Mr. Albert   \n",
       "4            896       3  Hirvonen, Mrs. Alexander (Helga E Lindqvist)   \n",
       "..           ...     ...                                           ...   \n",
       "413         1305       3                            Spector, Mr. Woolf   \n",
       "414         1306       1                  Oliva y Ocana, Dona. Fermina   \n",
       "415         1307       3                  Saether, Mr. Simon Sivertsen   \n",
       "416         1308       3                           Ware, Mr. Frederick   \n",
       "417         1309       3                      Peter, Master. Michael J   \n",
       "\n",
       "        Sex   Age      Fare Embarked Family_Size  \n",
       "0      male  34.5    7.8292        Q       Alone  \n",
       "1    female  47.0    7.0000        S      Medium  \n",
       "2      male  62.0    9.6875        Q       Alone  \n",
       "3      male  27.0    8.6625        S       Alone  \n",
       "4    female  22.0   12.2875        S      Medium  \n",
       "..      ...   ...       ...      ...         ...  \n",
       "413    male  25.0    8.0500        S       Alone  \n",
       "414  female  39.0  108.9000        C       Alone  \n",
       "415    male  38.5    7.2500        S       Alone  \n",
       "416    male  38.0    8.0500        S       Alone  \n",
       "417    male  27.0   22.3583        C      Medium  \n",
       "\n",
       "[418 rows x 8 columns]"
      ]
     },
     "execution_count": 33,
     "metadata": {},
     "output_type": "execute_result"
    }
   ],
   "source": [
    "test"
   ]
  },
  {
   "cell_type": "code",
   "execution_count": 34,
   "id": "38227428",
   "metadata": {
    "execution": {
     "iopub.execute_input": "2023-04-26T18:07:03.442525Z",
     "iopub.status.busy": "2023-04-26T18:07:03.442151Z",
     "iopub.status.idle": "2023-04-26T18:07:03.447503Z",
     "shell.execute_reply": "2023-04-26T18:07:03.446298Z"
    },
    "papermill": {
     "duration": 0.026669,
     "end_time": "2023-04-26T18:07:03.449962",
     "exception": false,
     "start_time": "2023-04-26T18:07:03.423293",
     "status": "completed"
    },
    "tags": []
   },
   "outputs": [],
   "source": [
    "PassengerId=test['PassengerId'].values"
   ]
  },
  {
   "cell_type": "code",
   "execution_count": 35,
   "id": "599f4445",
   "metadata": {
    "execution": {
     "iopub.execute_input": "2023-04-26T18:07:03.487520Z",
     "iopub.status.busy": "2023-04-26T18:07:03.486748Z",
     "iopub.status.idle": "2023-04-26T18:07:03.495252Z",
     "shell.execute_reply": "2023-04-26T18:07:03.494056Z"
    },
    "papermill": {
     "duration": 0.030258,
     "end_time": "2023-04-26T18:07:03.497488",
     "exception": false,
     "start_time": "2023-04-26T18:07:03.467230",
     "status": "completed"
    },
    "tags": []
   },
   "outputs": [],
   "source": [
    "train.drop(columns=['Name','PassengerId'], inplace=True)\n",
    "test.drop(columns=['Name','PassengerId'], inplace=True)"
   ]
  },
  {
   "cell_type": "code",
   "execution_count": 36,
   "id": "24ff4a09",
   "metadata": {
    "execution": {
     "iopub.execute_input": "2023-04-26T18:07:03.534106Z",
     "iopub.status.busy": "2023-04-26T18:07:03.533705Z",
     "iopub.status.idle": "2023-04-26T18:07:03.552600Z",
     "shell.execute_reply": "2023-04-26T18:07:03.551798Z"
    },
    "papermill": {
     "duration": 0.040128,
     "end_time": "2023-04-26T18:07:03.555089",
     "exception": false,
     "start_time": "2023-04-26T18:07:03.514961",
     "status": "completed"
    },
    "tags": []
   },
   "outputs": [
    {
     "data": {
      "text/html": [
       "<div>\n",
       "<style scoped>\n",
       "    .dataframe tbody tr th:only-of-type {\n",
       "        vertical-align: middle;\n",
       "    }\n",
       "\n",
       "    .dataframe tbody tr th {\n",
       "        vertical-align: top;\n",
       "    }\n",
       "\n",
       "    .dataframe thead th {\n",
       "        text-align: right;\n",
       "    }\n",
       "</style>\n",
       "<table border=\"1\" class=\"dataframe\">\n",
       "  <thead>\n",
       "    <tr style=\"text-align: right;\">\n",
       "      <th></th>\n",
       "      <th>Pclass</th>\n",
       "      <th>Sex</th>\n",
       "      <th>Age</th>\n",
       "      <th>Fare</th>\n",
       "      <th>Embarked</th>\n",
       "      <th>Family_Size</th>\n",
       "    </tr>\n",
       "  </thead>\n",
       "  <tbody>\n",
       "    <tr>\n",
       "      <th>0</th>\n",
       "      <td>3</td>\n",
       "      <td>male</td>\n",
       "      <td>34.5</td>\n",
       "      <td>7.8292</td>\n",
       "      <td>Q</td>\n",
       "      <td>Alone</td>\n",
       "    </tr>\n",
       "    <tr>\n",
       "      <th>1</th>\n",
       "      <td>3</td>\n",
       "      <td>female</td>\n",
       "      <td>47.0</td>\n",
       "      <td>7.0000</td>\n",
       "      <td>S</td>\n",
       "      <td>Medium</td>\n",
       "    </tr>\n",
       "    <tr>\n",
       "      <th>2</th>\n",
       "      <td>2</td>\n",
       "      <td>male</td>\n",
       "      <td>62.0</td>\n",
       "      <td>9.6875</td>\n",
       "      <td>Q</td>\n",
       "      <td>Alone</td>\n",
       "    </tr>\n",
       "    <tr>\n",
       "      <th>3</th>\n",
       "      <td>3</td>\n",
       "      <td>male</td>\n",
       "      <td>27.0</td>\n",
       "      <td>8.6625</td>\n",
       "      <td>S</td>\n",
       "      <td>Alone</td>\n",
       "    </tr>\n",
       "    <tr>\n",
       "      <th>4</th>\n",
       "      <td>3</td>\n",
       "      <td>female</td>\n",
       "      <td>22.0</td>\n",
       "      <td>12.2875</td>\n",
       "      <td>S</td>\n",
       "      <td>Medium</td>\n",
       "    </tr>\n",
       "    <tr>\n",
       "      <th>...</th>\n",
       "      <td>...</td>\n",
       "      <td>...</td>\n",
       "      <td>...</td>\n",
       "      <td>...</td>\n",
       "      <td>...</td>\n",
       "      <td>...</td>\n",
       "    </tr>\n",
       "    <tr>\n",
       "      <th>413</th>\n",
       "      <td>3</td>\n",
       "      <td>male</td>\n",
       "      <td>25.0</td>\n",
       "      <td>8.0500</td>\n",
       "      <td>S</td>\n",
       "      <td>Alone</td>\n",
       "    </tr>\n",
       "    <tr>\n",
       "      <th>414</th>\n",
       "      <td>1</td>\n",
       "      <td>female</td>\n",
       "      <td>39.0</td>\n",
       "      <td>108.9000</td>\n",
       "      <td>C</td>\n",
       "      <td>Alone</td>\n",
       "    </tr>\n",
       "    <tr>\n",
       "      <th>415</th>\n",
       "      <td>3</td>\n",
       "      <td>male</td>\n",
       "      <td>38.5</td>\n",
       "      <td>7.2500</td>\n",
       "      <td>S</td>\n",
       "      <td>Alone</td>\n",
       "    </tr>\n",
       "    <tr>\n",
       "      <th>416</th>\n",
       "      <td>3</td>\n",
       "      <td>male</td>\n",
       "      <td>38.0</td>\n",
       "      <td>8.0500</td>\n",
       "      <td>S</td>\n",
       "      <td>Alone</td>\n",
       "    </tr>\n",
       "    <tr>\n",
       "      <th>417</th>\n",
       "      <td>3</td>\n",
       "      <td>male</td>\n",
       "      <td>27.0</td>\n",
       "      <td>22.3583</td>\n",
       "      <td>C</td>\n",
       "      <td>Medium</td>\n",
       "    </tr>\n",
       "  </tbody>\n",
       "</table>\n",
       "<p>418 rows × 6 columns</p>\n",
       "</div>"
      ],
      "text/plain": [
       "     Pclass     Sex   Age      Fare Embarked Family_Size\n",
       "0         3    male  34.5    7.8292        Q       Alone\n",
       "1         3  female  47.0    7.0000        S      Medium\n",
       "2         2    male  62.0    9.6875        Q       Alone\n",
       "3         3    male  27.0    8.6625        S       Alone\n",
       "4         3  female  22.0   12.2875        S      Medium\n",
       "..      ...     ...   ...       ...      ...         ...\n",
       "413       3    male  25.0    8.0500        S       Alone\n",
       "414       1  female  39.0  108.9000        C       Alone\n",
       "415       3    male  38.5    7.2500        S       Alone\n",
       "416       3    male  38.0    8.0500        S       Alone\n",
       "417       3    male  27.0   22.3583        C      Medium\n",
       "\n",
       "[418 rows x 6 columns]"
      ]
     },
     "execution_count": 36,
     "metadata": {},
     "output_type": "execute_result"
    }
   ],
   "source": [
    "test"
   ]
  },
  {
   "cell_type": "code",
   "execution_count": 37,
   "id": "5d62db1f",
   "metadata": {
    "execution": {
     "iopub.execute_input": "2023-04-26T18:07:03.592548Z",
     "iopub.status.busy": "2023-04-26T18:07:03.592140Z",
     "iopub.status.idle": "2023-04-26T18:07:03.611021Z",
     "shell.execute_reply": "2023-04-26T18:07:03.610087Z"
    },
    "papermill": {
     "duration": 0.039914,
     "end_time": "2023-04-26T18:07:03.613093",
     "exception": false,
     "start_time": "2023-04-26T18:07:03.573179",
     "status": "completed"
    },
    "tags": []
   },
   "outputs": [
    {
     "data": {
      "text/html": [
       "<div>\n",
       "<style scoped>\n",
       "    .dataframe tbody tr th:only-of-type {\n",
       "        vertical-align: middle;\n",
       "    }\n",
       "\n",
       "    .dataframe tbody tr th {\n",
       "        vertical-align: top;\n",
       "    }\n",
       "\n",
       "    .dataframe thead th {\n",
       "        text-align: right;\n",
       "    }\n",
       "</style>\n",
       "<table border=\"1\" class=\"dataframe\">\n",
       "  <thead>\n",
       "    <tr style=\"text-align: right;\">\n",
       "      <th></th>\n",
       "      <th>Survived</th>\n",
       "      <th>Pclass</th>\n",
       "      <th>Sex</th>\n",
       "      <th>Age</th>\n",
       "      <th>Fare</th>\n",
       "      <th>Embarked</th>\n",
       "      <th>Family_Size</th>\n",
       "    </tr>\n",
       "  </thead>\n",
       "  <tbody>\n",
       "    <tr>\n",
       "      <th>0</th>\n",
       "      <td>0</td>\n",
       "      <td>3</td>\n",
       "      <td>male</td>\n",
       "      <td>22.0</td>\n",
       "      <td>7.2500</td>\n",
       "      <td>S</td>\n",
       "      <td>Medium</td>\n",
       "    </tr>\n",
       "    <tr>\n",
       "      <th>1</th>\n",
       "      <td>1</td>\n",
       "      <td>1</td>\n",
       "      <td>female</td>\n",
       "      <td>38.0</td>\n",
       "      <td>71.2833</td>\n",
       "      <td>C</td>\n",
       "      <td>Medium</td>\n",
       "    </tr>\n",
       "    <tr>\n",
       "      <th>2</th>\n",
       "      <td>1</td>\n",
       "      <td>3</td>\n",
       "      <td>female</td>\n",
       "      <td>26.0</td>\n",
       "      <td>7.9250</td>\n",
       "      <td>S</td>\n",
       "      <td>Alone</td>\n",
       "    </tr>\n",
       "    <tr>\n",
       "      <th>3</th>\n",
       "      <td>1</td>\n",
       "      <td>1</td>\n",
       "      <td>female</td>\n",
       "      <td>35.0</td>\n",
       "      <td>53.1000</td>\n",
       "      <td>S</td>\n",
       "      <td>Medium</td>\n",
       "    </tr>\n",
       "    <tr>\n",
       "      <th>4</th>\n",
       "      <td>0</td>\n",
       "      <td>3</td>\n",
       "      <td>male</td>\n",
       "      <td>35.0</td>\n",
       "      <td>8.0500</td>\n",
       "      <td>S</td>\n",
       "      <td>Alone</td>\n",
       "    </tr>\n",
       "    <tr>\n",
       "      <th>...</th>\n",
       "      <td>...</td>\n",
       "      <td>...</td>\n",
       "      <td>...</td>\n",
       "      <td>...</td>\n",
       "      <td>...</td>\n",
       "      <td>...</td>\n",
       "      <td>...</td>\n",
       "    </tr>\n",
       "    <tr>\n",
       "      <th>886</th>\n",
       "      <td>0</td>\n",
       "      <td>2</td>\n",
       "      <td>male</td>\n",
       "      <td>27.0</td>\n",
       "      <td>13.0000</td>\n",
       "      <td>S</td>\n",
       "      <td>Alone</td>\n",
       "    </tr>\n",
       "    <tr>\n",
       "      <th>887</th>\n",
       "      <td>1</td>\n",
       "      <td>1</td>\n",
       "      <td>female</td>\n",
       "      <td>19.0</td>\n",
       "      <td>30.0000</td>\n",
       "      <td>S</td>\n",
       "      <td>Alone</td>\n",
       "    </tr>\n",
       "    <tr>\n",
       "      <th>888</th>\n",
       "      <td>0</td>\n",
       "      <td>3</td>\n",
       "      <td>female</td>\n",
       "      <td>29.0</td>\n",
       "      <td>23.4500</td>\n",
       "      <td>S</td>\n",
       "      <td>Medium</td>\n",
       "    </tr>\n",
       "    <tr>\n",
       "      <th>889</th>\n",
       "      <td>1</td>\n",
       "      <td>1</td>\n",
       "      <td>male</td>\n",
       "      <td>26.0</td>\n",
       "      <td>30.0000</td>\n",
       "      <td>C</td>\n",
       "      <td>Alone</td>\n",
       "    </tr>\n",
       "    <tr>\n",
       "      <th>890</th>\n",
       "      <td>0</td>\n",
       "      <td>3</td>\n",
       "      <td>male</td>\n",
       "      <td>32.0</td>\n",
       "      <td>7.7500</td>\n",
       "      <td>Q</td>\n",
       "      <td>Alone</td>\n",
       "    </tr>\n",
       "  </tbody>\n",
       "</table>\n",
       "<p>891 rows × 7 columns</p>\n",
       "</div>"
      ],
      "text/plain": [
       "     Survived  Pclass     Sex   Age     Fare Embarked Family_Size\n",
       "0           0       3    male  22.0   7.2500        S      Medium\n",
       "1           1       1  female  38.0  71.2833        C      Medium\n",
       "2           1       3  female  26.0   7.9250        S       Alone\n",
       "3           1       1  female  35.0  53.1000        S      Medium\n",
       "4           0       3    male  35.0   8.0500        S       Alone\n",
       "..        ...     ...     ...   ...      ...      ...         ...\n",
       "886         0       2    male  27.0  13.0000        S       Alone\n",
       "887         1       1  female  19.0  30.0000        S       Alone\n",
       "888         0       3  female  29.0  23.4500        S      Medium\n",
       "889         1       1    male  26.0  30.0000        C       Alone\n",
       "890         0       3    male  32.0   7.7500        Q       Alone\n",
       "\n",
       "[891 rows x 7 columns]"
      ]
     },
     "execution_count": 37,
     "metadata": {},
     "output_type": "execute_result"
    }
   ],
   "source": [
    "train"
   ]
  },
  {
   "cell_type": "code",
   "execution_count": 38,
   "id": "e0a58352",
   "metadata": {
    "execution": {
     "iopub.execute_input": "2023-04-26T18:07:03.652415Z",
     "iopub.status.busy": "2023-04-26T18:07:03.651814Z",
     "iopub.status.idle": "2023-04-26T18:07:03.664440Z",
     "shell.execute_reply": "2023-04-26T18:07:03.663210Z"
    },
    "papermill": {
     "duration": 0.036134,
     "end_time": "2023-04-26T18:07:03.667115",
     "exception": false,
     "start_time": "2023-04-26T18:07:03.630981",
     "status": "completed"
    },
    "tags": []
   },
   "outputs": [],
   "source": [
    "train=pd.get_dummies(train, columns=['Pclass','Sex','Embarked','Family_Size'], drop_first=True)\n"
   ]
  },
  {
   "cell_type": "code",
   "execution_count": 39,
   "id": "35df5a03",
   "metadata": {
    "execution": {
     "iopub.execute_input": "2023-04-26T18:07:03.706704Z",
     "iopub.status.busy": "2023-04-26T18:07:03.705271Z",
     "iopub.status.idle": "2023-04-26T18:07:03.718110Z",
     "shell.execute_reply": "2023-04-26T18:07:03.716938Z"
    },
    "papermill": {
     "duration": 0.035731,
     "end_time": "2023-04-26T18:07:03.720797",
     "exception": false,
     "start_time": "2023-04-26T18:07:03.685066",
     "status": "completed"
    },
    "tags": []
   },
   "outputs": [],
   "source": [
    "test=pd.get_dummies(test, columns=['Pclass','Sex','Embarked','Family_Size'], drop_first=True)"
   ]
  },
  {
   "cell_type": "code",
   "execution_count": 40,
   "id": "82f0cd90",
   "metadata": {
    "execution": {
     "iopub.execute_input": "2023-04-26T18:07:03.758934Z",
     "iopub.status.busy": "2023-04-26T18:07:03.758515Z",
     "iopub.status.idle": "2023-04-26T18:07:03.777017Z",
     "shell.execute_reply": "2023-04-26T18:07:03.775788Z"
    },
    "papermill": {
     "duration": 0.040584,
     "end_time": "2023-04-26T18:07:03.779485",
     "exception": false,
     "start_time": "2023-04-26T18:07:03.738901",
     "status": "completed"
    },
    "tags": []
   },
   "outputs": [
    {
     "data": {
      "text/html": [
       "<div>\n",
       "<style scoped>\n",
       "    .dataframe tbody tr th:only-of-type {\n",
       "        vertical-align: middle;\n",
       "    }\n",
       "\n",
       "    .dataframe tbody tr th {\n",
       "        vertical-align: top;\n",
       "    }\n",
       "\n",
       "    .dataframe thead th {\n",
       "        text-align: right;\n",
       "    }\n",
       "</style>\n",
       "<table border=\"1\" class=\"dataframe\">\n",
       "  <thead>\n",
       "    <tr style=\"text-align: right;\">\n",
       "      <th></th>\n",
       "      <th>Survived</th>\n",
       "      <th>Age</th>\n",
       "      <th>Fare</th>\n",
       "      <th>Pclass_2</th>\n",
       "      <th>Pclass_3</th>\n",
       "      <th>Sex_male</th>\n",
       "      <th>Embarked_Q</th>\n",
       "      <th>Embarked_S</th>\n",
       "      <th>Family_Size_Large</th>\n",
       "      <th>Family_Size_Medium</th>\n",
       "    </tr>\n",
       "  </thead>\n",
       "  <tbody>\n",
       "    <tr>\n",
       "      <th>0</th>\n",
       "      <td>0</td>\n",
       "      <td>22.0</td>\n",
       "      <td>7.2500</td>\n",
       "      <td>0</td>\n",
       "      <td>1</td>\n",
       "      <td>1</td>\n",
       "      <td>0</td>\n",
       "      <td>1</td>\n",
       "      <td>0</td>\n",
       "      <td>1</td>\n",
       "    </tr>\n",
       "    <tr>\n",
       "      <th>1</th>\n",
       "      <td>1</td>\n",
       "      <td>38.0</td>\n",
       "      <td>71.2833</td>\n",
       "      <td>0</td>\n",
       "      <td>0</td>\n",
       "      <td>0</td>\n",
       "      <td>0</td>\n",
       "      <td>0</td>\n",
       "      <td>0</td>\n",
       "      <td>1</td>\n",
       "    </tr>\n",
       "    <tr>\n",
       "      <th>2</th>\n",
       "      <td>1</td>\n",
       "      <td>26.0</td>\n",
       "      <td>7.9250</td>\n",
       "      <td>0</td>\n",
       "      <td>1</td>\n",
       "      <td>0</td>\n",
       "      <td>0</td>\n",
       "      <td>1</td>\n",
       "      <td>0</td>\n",
       "      <td>0</td>\n",
       "    </tr>\n",
       "    <tr>\n",
       "      <th>3</th>\n",
       "      <td>1</td>\n",
       "      <td>35.0</td>\n",
       "      <td>53.1000</td>\n",
       "      <td>0</td>\n",
       "      <td>0</td>\n",
       "      <td>0</td>\n",
       "      <td>0</td>\n",
       "      <td>1</td>\n",
       "      <td>0</td>\n",
       "      <td>1</td>\n",
       "    </tr>\n",
       "    <tr>\n",
       "      <th>4</th>\n",
       "      <td>0</td>\n",
       "      <td>35.0</td>\n",
       "      <td>8.0500</td>\n",
       "      <td>0</td>\n",
       "      <td>1</td>\n",
       "      <td>1</td>\n",
       "      <td>0</td>\n",
       "      <td>1</td>\n",
       "      <td>0</td>\n",
       "      <td>0</td>\n",
       "    </tr>\n",
       "    <tr>\n",
       "      <th>...</th>\n",
       "      <td>...</td>\n",
       "      <td>...</td>\n",
       "      <td>...</td>\n",
       "      <td>...</td>\n",
       "      <td>...</td>\n",
       "      <td>...</td>\n",
       "      <td>...</td>\n",
       "      <td>...</td>\n",
       "      <td>...</td>\n",
       "      <td>...</td>\n",
       "    </tr>\n",
       "    <tr>\n",
       "      <th>886</th>\n",
       "      <td>0</td>\n",
       "      <td>27.0</td>\n",
       "      <td>13.0000</td>\n",
       "      <td>1</td>\n",
       "      <td>0</td>\n",
       "      <td>1</td>\n",
       "      <td>0</td>\n",
       "      <td>1</td>\n",
       "      <td>0</td>\n",
       "      <td>0</td>\n",
       "    </tr>\n",
       "    <tr>\n",
       "      <th>887</th>\n",
       "      <td>1</td>\n",
       "      <td>19.0</td>\n",
       "      <td>30.0000</td>\n",
       "      <td>0</td>\n",
       "      <td>0</td>\n",
       "      <td>0</td>\n",
       "      <td>0</td>\n",
       "      <td>1</td>\n",
       "      <td>0</td>\n",
       "      <td>0</td>\n",
       "    </tr>\n",
       "    <tr>\n",
       "      <th>888</th>\n",
       "      <td>0</td>\n",
       "      <td>29.0</td>\n",
       "      <td>23.4500</td>\n",
       "      <td>0</td>\n",
       "      <td>1</td>\n",
       "      <td>0</td>\n",
       "      <td>0</td>\n",
       "      <td>1</td>\n",
       "      <td>0</td>\n",
       "      <td>1</td>\n",
       "    </tr>\n",
       "    <tr>\n",
       "      <th>889</th>\n",
       "      <td>1</td>\n",
       "      <td>26.0</td>\n",
       "      <td>30.0000</td>\n",
       "      <td>0</td>\n",
       "      <td>0</td>\n",
       "      <td>1</td>\n",
       "      <td>0</td>\n",
       "      <td>0</td>\n",
       "      <td>0</td>\n",
       "      <td>0</td>\n",
       "    </tr>\n",
       "    <tr>\n",
       "      <th>890</th>\n",
       "      <td>0</td>\n",
       "      <td>32.0</td>\n",
       "      <td>7.7500</td>\n",
       "      <td>0</td>\n",
       "      <td>1</td>\n",
       "      <td>1</td>\n",
       "      <td>1</td>\n",
       "      <td>0</td>\n",
       "      <td>0</td>\n",
       "      <td>0</td>\n",
       "    </tr>\n",
       "  </tbody>\n",
       "</table>\n",
       "<p>891 rows × 10 columns</p>\n",
       "</div>"
      ],
      "text/plain": [
       "     Survived   Age     Fare  Pclass_2  Pclass_3  Sex_male  Embarked_Q  \\\n",
       "0           0  22.0   7.2500         0         1         1           0   \n",
       "1           1  38.0  71.2833         0         0         0           0   \n",
       "2           1  26.0   7.9250         0         1         0           0   \n",
       "3           1  35.0  53.1000         0         0         0           0   \n",
       "4           0  35.0   8.0500         0         1         1           0   \n",
       "..        ...   ...      ...       ...       ...       ...         ...   \n",
       "886         0  27.0  13.0000         1         0         1           0   \n",
       "887         1  19.0  30.0000         0         0         0           0   \n",
       "888         0  29.0  23.4500         0         1         0           0   \n",
       "889         1  26.0  30.0000         0         0         1           0   \n",
       "890         0  32.0   7.7500         0         1         1           1   \n",
       "\n",
       "     Embarked_S  Family_Size_Large  Family_Size_Medium  \n",
       "0             1                  0                   1  \n",
       "1             0                  0                   1  \n",
       "2             1                  0                   0  \n",
       "3             1                  0                   1  \n",
       "4             1                  0                   0  \n",
       "..          ...                ...                 ...  \n",
       "886           1                  0                   0  \n",
       "887           1                  0                   0  \n",
       "888           1                  0                   1  \n",
       "889           0                  0                   0  \n",
       "890           0                  0                   0  \n",
       "\n",
       "[891 rows x 10 columns]"
      ]
     },
     "execution_count": 40,
     "metadata": {},
     "output_type": "execute_result"
    }
   ],
   "source": [
    "train"
   ]
  },
  {
   "cell_type": "code",
   "execution_count": 41,
   "id": "d7a4518e",
   "metadata": {
    "execution": {
     "iopub.execute_input": "2023-04-26T18:07:03.819008Z",
     "iopub.status.busy": "2023-04-26T18:07:03.818626Z",
     "iopub.status.idle": "2023-04-26T18:07:03.836989Z",
     "shell.execute_reply": "2023-04-26T18:07:03.835794Z"
    },
    "papermill": {
     "duration": 0.040929,
     "end_time": "2023-04-26T18:07:03.839271",
     "exception": false,
     "start_time": "2023-04-26T18:07:03.798342",
     "status": "completed"
    },
    "tags": []
   },
   "outputs": [
    {
     "data": {
      "text/html": [
       "<div>\n",
       "<style scoped>\n",
       "    .dataframe tbody tr th:only-of-type {\n",
       "        vertical-align: middle;\n",
       "    }\n",
       "\n",
       "    .dataframe tbody tr th {\n",
       "        vertical-align: top;\n",
       "    }\n",
       "\n",
       "    .dataframe thead th {\n",
       "        text-align: right;\n",
       "    }\n",
       "</style>\n",
       "<table border=\"1\" class=\"dataframe\">\n",
       "  <thead>\n",
       "    <tr style=\"text-align: right;\">\n",
       "      <th></th>\n",
       "      <th>Age</th>\n",
       "      <th>Fare</th>\n",
       "      <th>Pclass_2</th>\n",
       "      <th>Pclass_3</th>\n",
       "      <th>Sex_male</th>\n",
       "      <th>Embarked_Q</th>\n",
       "      <th>Embarked_S</th>\n",
       "      <th>Family_Size_Large</th>\n",
       "      <th>Family_Size_Medium</th>\n",
       "    </tr>\n",
       "  </thead>\n",
       "  <tbody>\n",
       "    <tr>\n",
       "      <th>0</th>\n",
       "      <td>34.5</td>\n",
       "      <td>7.8292</td>\n",
       "      <td>0</td>\n",
       "      <td>1</td>\n",
       "      <td>1</td>\n",
       "      <td>1</td>\n",
       "      <td>0</td>\n",
       "      <td>0</td>\n",
       "      <td>0</td>\n",
       "    </tr>\n",
       "    <tr>\n",
       "      <th>1</th>\n",
       "      <td>47.0</td>\n",
       "      <td>7.0000</td>\n",
       "      <td>0</td>\n",
       "      <td>1</td>\n",
       "      <td>0</td>\n",
       "      <td>0</td>\n",
       "      <td>1</td>\n",
       "      <td>0</td>\n",
       "      <td>1</td>\n",
       "    </tr>\n",
       "    <tr>\n",
       "      <th>2</th>\n",
       "      <td>62.0</td>\n",
       "      <td>9.6875</td>\n",
       "      <td>1</td>\n",
       "      <td>0</td>\n",
       "      <td>1</td>\n",
       "      <td>1</td>\n",
       "      <td>0</td>\n",
       "      <td>0</td>\n",
       "      <td>0</td>\n",
       "    </tr>\n",
       "    <tr>\n",
       "      <th>3</th>\n",
       "      <td>27.0</td>\n",
       "      <td>8.6625</td>\n",
       "      <td>0</td>\n",
       "      <td>1</td>\n",
       "      <td>1</td>\n",
       "      <td>0</td>\n",
       "      <td>1</td>\n",
       "      <td>0</td>\n",
       "      <td>0</td>\n",
       "    </tr>\n",
       "    <tr>\n",
       "      <th>4</th>\n",
       "      <td>22.0</td>\n",
       "      <td>12.2875</td>\n",
       "      <td>0</td>\n",
       "      <td>1</td>\n",
       "      <td>0</td>\n",
       "      <td>0</td>\n",
       "      <td>1</td>\n",
       "      <td>0</td>\n",
       "      <td>1</td>\n",
       "    </tr>\n",
       "    <tr>\n",
       "      <th>...</th>\n",
       "      <td>...</td>\n",
       "      <td>...</td>\n",
       "      <td>...</td>\n",
       "      <td>...</td>\n",
       "      <td>...</td>\n",
       "      <td>...</td>\n",
       "      <td>...</td>\n",
       "      <td>...</td>\n",
       "      <td>...</td>\n",
       "    </tr>\n",
       "    <tr>\n",
       "      <th>413</th>\n",
       "      <td>25.0</td>\n",
       "      <td>8.0500</td>\n",
       "      <td>0</td>\n",
       "      <td>1</td>\n",
       "      <td>1</td>\n",
       "      <td>0</td>\n",
       "      <td>1</td>\n",
       "      <td>0</td>\n",
       "      <td>0</td>\n",
       "    </tr>\n",
       "    <tr>\n",
       "      <th>414</th>\n",
       "      <td>39.0</td>\n",
       "      <td>108.9000</td>\n",
       "      <td>0</td>\n",
       "      <td>0</td>\n",
       "      <td>0</td>\n",
       "      <td>0</td>\n",
       "      <td>0</td>\n",
       "      <td>0</td>\n",
       "      <td>0</td>\n",
       "    </tr>\n",
       "    <tr>\n",
       "      <th>415</th>\n",
       "      <td>38.5</td>\n",
       "      <td>7.2500</td>\n",
       "      <td>0</td>\n",
       "      <td>1</td>\n",
       "      <td>1</td>\n",
       "      <td>0</td>\n",
       "      <td>1</td>\n",
       "      <td>0</td>\n",
       "      <td>0</td>\n",
       "    </tr>\n",
       "    <tr>\n",
       "      <th>416</th>\n",
       "      <td>38.0</td>\n",
       "      <td>8.0500</td>\n",
       "      <td>0</td>\n",
       "      <td>1</td>\n",
       "      <td>1</td>\n",
       "      <td>0</td>\n",
       "      <td>1</td>\n",
       "      <td>0</td>\n",
       "      <td>0</td>\n",
       "    </tr>\n",
       "    <tr>\n",
       "      <th>417</th>\n",
       "      <td>27.0</td>\n",
       "      <td>22.3583</td>\n",
       "      <td>0</td>\n",
       "      <td>1</td>\n",
       "      <td>1</td>\n",
       "      <td>0</td>\n",
       "      <td>0</td>\n",
       "      <td>0</td>\n",
       "      <td>1</td>\n",
       "    </tr>\n",
       "  </tbody>\n",
       "</table>\n",
       "<p>418 rows × 9 columns</p>\n",
       "</div>"
      ],
      "text/plain": [
       "      Age      Fare  Pclass_2  Pclass_3  Sex_male  Embarked_Q  Embarked_S  \\\n",
       "0    34.5    7.8292         0         1         1           1           0   \n",
       "1    47.0    7.0000         0         1         0           0           1   \n",
       "2    62.0    9.6875         1         0         1           1           0   \n",
       "3    27.0    8.6625         0         1         1           0           1   \n",
       "4    22.0   12.2875         0         1         0           0           1   \n",
       "..    ...       ...       ...       ...       ...         ...         ...   \n",
       "413  25.0    8.0500         0         1         1           0           1   \n",
       "414  39.0  108.9000         0         0         0           0           0   \n",
       "415  38.5    7.2500         0         1         1           0           1   \n",
       "416  38.0    8.0500         0         1         1           0           1   \n",
       "417  27.0   22.3583         0         1         1           0           0   \n",
       "\n",
       "     Family_Size_Large  Family_Size_Medium  \n",
       "0                    0                   0  \n",
       "1                    0                   1  \n",
       "2                    0                   0  \n",
       "3                    0                   0  \n",
       "4                    0                   1  \n",
       "..                 ...                 ...  \n",
       "413                  0                   0  \n",
       "414                  0                   0  \n",
       "415                  0                   0  \n",
       "416                  0                   0  \n",
       "417                  0                   1  \n",
       "\n",
       "[418 rows x 9 columns]"
      ]
     },
     "execution_count": 41,
     "metadata": {},
     "output_type": "execute_result"
    }
   ],
   "source": [
    "test"
   ]
  },
  {
   "cell_type": "code",
   "execution_count": 42,
   "id": "918b611d",
   "metadata": {
    "execution": {
     "iopub.execute_input": "2023-04-26T18:07:03.878142Z",
     "iopub.status.busy": "2023-04-26T18:07:03.877402Z",
     "iopub.status.idle": "2023-04-26T18:07:03.883807Z",
     "shell.execute_reply": "2023-04-26T18:07:03.882678Z"
    },
    "papermill": {
     "duration": 0.028457,
     "end_time": "2023-04-26T18:07:03.886196",
     "exception": false,
     "start_time": "2023-04-26T18:07:03.857739",
     "status": "completed"
    },
    "tags": []
   },
   "outputs": [],
   "source": [
    "X=train.iloc[:,1:].values\n"
   ]
  },
  {
   "cell_type": "code",
   "execution_count": 43,
   "id": "8d758038",
   "metadata": {
    "execution": {
     "iopub.execute_input": "2023-04-26T18:07:03.924938Z",
     "iopub.status.busy": "2023-04-26T18:07:03.924378Z",
     "iopub.status.idle": "2023-04-26T18:07:03.929984Z",
     "shell.execute_reply": "2023-04-26T18:07:03.928936Z"
    },
    "papermill": {
     "duration": 0.027921,
     "end_time": "2023-04-26T18:07:03.932372",
     "exception": false,
     "start_time": "2023-04-26T18:07:03.904451",
     "status": "completed"
    },
    "tags": []
   },
   "outputs": [],
   "source": [
    "y=train.iloc[:,0].values"
   ]
  },
  {
   "cell_type": "code",
   "execution_count": 44,
   "id": "6096d641",
   "metadata": {
    "execution": {
     "iopub.execute_input": "2023-04-26T18:07:03.972260Z",
     "iopub.status.busy": "2023-04-26T18:07:03.971891Z",
     "iopub.status.idle": "2023-04-26T18:07:04.201387Z",
     "shell.execute_reply": "2023-04-26T18:07:04.199189Z"
    },
    "papermill": {
     "duration": 0.25287,
     "end_time": "2023-04-26T18:07:04.204076",
     "exception": false,
     "start_time": "2023-04-26T18:07:03.951206",
     "status": "completed"
    },
    "tags": []
   },
   "outputs": [],
   "source": [
    "from sklearn.model_selection import train_test_split\n",
    "X_train,X_test,y_train,y_test=train_test_split(X,y,test_size=0.25)"
   ]
  },
  {
   "cell_type": "code",
   "execution_count": 45,
   "id": "8f3a0992",
   "metadata": {
    "execution": {
     "iopub.execute_input": "2023-04-26T18:07:04.246405Z",
     "iopub.status.busy": "2023-04-26T18:07:04.246003Z",
     "iopub.status.idle": "2023-04-26T18:07:04.498601Z",
     "shell.execute_reply": "2023-04-26T18:07:04.497482Z"
    },
    "papermill": {
     "duration": 0.277362,
     "end_time": "2023-04-26T18:07:04.501497",
     "exception": false,
     "start_time": "2023-04-26T18:07:04.224135",
     "status": "completed"
    },
    "tags": []
   },
   "outputs": [],
   "source": [
    "from sklearn.tree import DecisionTreeClassifier\n",
    "classifier=DecisionTreeClassifier()"
   ]
  },
  {
   "cell_type": "code",
   "execution_count": 46,
   "id": "ad14902c",
   "metadata": {
    "execution": {
     "iopub.execute_input": "2023-04-26T18:07:04.542329Z",
     "iopub.status.busy": "2023-04-26T18:07:04.541867Z",
     "iopub.status.idle": "2023-04-26T18:07:04.556913Z",
     "shell.execute_reply": "2023-04-26T18:07:04.555810Z"
    },
    "papermill": {
     "duration": 0.038374,
     "end_time": "2023-04-26T18:07:04.559215",
     "exception": false,
     "start_time": "2023-04-26T18:07:04.520841",
     "status": "completed"
    },
    "tags": []
   },
   "outputs": [
    {
     "data": {
      "text/plain": [
       "DecisionTreeClassifier()"
      ]
     },
     "execution_count": 46,
     "metadata": {},
     "output_type": "execute_result"
    }
   ],
   "source": [
    "classifier.fit(X_train,y_train)"
   ]
  },
  {
   "cell_type": "code",
   "execution_count": 47,
   "id": "2f723507",
   "metadata": {
    "execution": {
     "iopub.execute_input": "2023-04-26T18:07:04.599324Z",
     "iopub.status.busy": "2023-04-26T18:07:04.598698Z",
     "iopub.status.idle": "2023-04-26T18:07:04.603974Z",
     "shell.execute_reply": "2023-04-26T18:07:04.603104Z"
    },
    "papermill": {
     "duration": 0.027847,
     "end_time": "2023-04-26T18:07:04.606172",
     "exception": false,
     "start_time": "2023-04-26T18:07:04.578325",
     "status": "completed"
    },
    "tags": []
   },
   "outputs": [],
   "source": [
    "y_pred=classifier.predict(X_test)"
   ]
  },
  {
   "cell_type": "code",
   "execution_count": 48,
   "id": "efaf81cc",
   "metadata": {
    "execution": {
     "iopub.execute_input": "2023-04-26T18:07:04.645856Z",
     "iopub.status.busy": "2023-04-26T18:07:04.645090Z",
     "iopub.status.idle": "2023-04-26T18:07:04.652334Z",
     "shell.execute_reply": "2023-04-26T18:07:04.651291Z"
    },
    "papermill": {
     "duration": 0.030787,
     "end_time": "2023-04-26T18:07:04.655421",
     "exception": false,
     "start_time": "2023-04-26T18:07:04.624634",
     "status": "completed"
    },
    "tags": []
   },
   "outputs": [
    {
     "data": {
      "text/plain": [
       "0.7847533632286996"
      ]
     },
     "execution_count": 48,
     "metadata": {},
     "output_type": "execute_result"
    }
   ],
   "source": [
    "from sklearn.metrics import accuracy_score\n",
    "accuracy_score(y_pred, y_test)"
   ]
  },
  {
   "cell_type": "code",
   "execution_count": 49,
   "id": "af66612a",
   "metadata": {
    "execution": {
     "iopub.execute_input": "2023-04-26T18:07:04.695787Z",
     "iopub.status.busy": "2023-04-26T18:07:04.695156Z",
     "iopub.status.idle": "2023-04-26T18:07:04.701014Z",
     "shell.execute_reply": "2023-04-26T18:07:04.699894Z"
    },
    "papermill": {
     "duration": 0.028589,
     "end_time": "2023-04-26T18:07:04.703306",
     "exception": false,
     "start_time": "2023-04-26T18:07:04.674717",
     "status": "completed"
    },
    "tags": []
   },
   "outputs": [],
   "source": [
    "Xf=test.iloc[:,:].values"
   ]
  },
  {
   "cell_type": "code",
   "execution_count": 50,
   "id": "cc26d6ba",
   "metadata": {
    "execution": {
     "iopub.execute_input": "2023-04-26T18:07:04.742758Z",
     "iopub.status.busy": "2023-04-26T18:07:04.742365Z",
     "iopub.status.idle": "2023-04-26T18:07:04.748974Z",
     "shell.execute_reply": "2023-04-26T18:07:04.747676Z"
    },
    "papermill": {
     "duration": 0.029296,
     "end_time": "2023-04-26T18:07:04.751369",
     "exception": false,
     "start_time": "2023-04-26T18:07:04.722073",
     "status": "completed"
    },
    "tags": []
   },
   "outputs": [],
   "source": [
    "y_final=classifier.predict(Xf)"
   ]
  },
  {
   "cell_type": "code",
   "execution_count": 51,
   "id": "c4b187dc",
   "metadata": {
    "execution": {
     "iopub.execute_input": "2023-04-26T18:07:04.791708Z",
     "iopub.status.busy": "2023-04-26T18:07:04.790734Z",
     "iopub.status.idle": "2023-04-26T18:07:04.796286Z",
     "shell.execute_reply": "2023-04-26T18:07:04.795312Z"
    },
    "papermill": {
     "duration": 0.028027,
     "end_time": "2023-04-26T18:07:04.798657",
     "exception": false,
     "start_time": "2023-04-26T18:07:04.770630",
     "status": "completed"
    },
    "tags": []
   },
   "outputs": [],
   "source": [
    "final=pd.DataFrame()"
   ]
  },
  {
   "cell_type": "code",
   "execution_count": 52,
   "id": "fefa6ba2",
   "metadata": {
    "execution": {
     "iopub.execute_input": "2023-04-26T18:07:04.838459Z",
     "iopub.status.busy": "2023-04-26T18:07:04.837688Z",
     "iopub.status.idle": "2023-04-26T18:07:04.850245Z",
     "shell.execute_reply": "2023-04-26T18:07:04.849395Z"
    },
    "papermill": {
     "duration": 0.035005,
     "end_time": "2023-04-26T18:07:04.852460",
     "exception": false,
     "start_time": "2023-04-26T18:07:04.817455",
     "status": "completed"
    },
    "tags": []
   },
   "outputs": [
    {
     "data": {
      "text/html": [
       "<div>\n",
       "<style scoped>\n",
       "    .dataframe tbody tr th:only-of-type {\n",
       "        vertical-align: middle;\n",
       "    }\n",
       "\n",
       "    .dataframe tbody tr th {\n",
       "        vertical-align: top;\n",
       "    }\n",
       "\n",
       "    .dataframe thead th {\n",
       "        text-align: right;\n",
       "    }\n",
       "</style>\n",
       "<table border=\"1\" class=\"dataframe\">\n",
       "  <thead>\n",
       "    <tr style=\"text-align: right;\">\n",
       "      <th></th>\n",
       "      <th>PassengerId</th>\n",
       "      <th>Survived</th>\n",
       "    </tr>\n",
       "  </thead>\n",
       "  <tbody>\n",
       "    <tr>\n",
       "      <th>0</th>\n",
       "      <td>892</td>\n",
       "      <td>0</td>\n",
       "    </tr>\n",
       "    <tr>\n",
       "      <th>1</th>\n",
       "      <td>893</td>\n",
       "      <td>1</td>\n",
       "    </tr>\n",
       "    <tr>\n",
       "      <th>2</th>\n",
       "      <td>894</td>\n",
       "      <td>1</td>\n",
       "    </tr>\n",
       "    <tr>\n",
       "      <th>3</th>\n",
       "      <td>895</td>\n",
       "      <td>1</td>\n",
       "    </tr>\n",
       "    <tr>\n",
       "      <th>4</th>\n",
       "      <td>896</td>\n",
       "      <td>1</td>\n",
       "    </tr>\n",
       "    <tr>\n",
       "      <th>...</th>\n",
       "      <td>...</td>\n",
       "      <td>...</td>\n",
       "    </tr>\n",
       "    <tr>\n",
       "      <th>413</th>\n",
       "      <td>1305</td>\n",
       "      <td>0</td>\n",
       "    </tr>\n",
       "    <tr>\n",
       "      <th>414</th>\n",
       "      <td>1306</td>\n",
       "      <td>1</td>\n",
       "    </tr>\n",
       "    <tr>\n",
       "      <th>415</th>\n",
       "      <td>1307</td>\n",
       "      <td>0</td>\n",
       "    </tr>\n",
       "    <tr>\n",
       "      <th>416</th>\n",
       "      <td>1308</td>\n",
       "      <td>0</td>\n",
       "    </tr>\n",
       "    <tr>\n",
       "      <th>417</th>\n",
       "      <td>1309</td>\n",
       "      <td>0</td>\n",
       "    </tr>\n",
       "  </tbody>\n",
       "</table>\n",
       "<p>418 rows × 2 columns</p>\n",
       "</div>"
      ],
      "text/plain": [
       "     PassengerId  Survived\n",
       "0            892         0\n",
       "1            893         1\n",
       "2            894         1\n",
       "3            895         1\n",
       "4            896         1\n",
       "..           ...       ...\n",
       "413         1305         0\n",
       "414         1306         1\n",
       "415         1307         0\n",
       "416         1308         0\n",
       "417         1309         0\n",
       "\n",
       "[418 rows x 2 columns]"
      ]
     },
     "execution_count": 52,
     "metadata": {},
     "output_type": "execute_result"
    }
   ],
   "source": [
    "final['PassengerId']=PassengerId\n",
    "final['Survived']=y_final\n",
    "final"
   ]
  },
  {
   "cell_type": "code",
   "execution_count": 53,
   "id": "a6a9b697",
   "metadata": {
    "execution": {
     "iopub.execute_input": "2023-04-26T18:07:04.892203Z",
     "iopub.status.busy": "2023-04-26T18:07:04.891784Z",
     "iopub.status.idle": "2023-04-26T18:07:04.902545Z",
     "shell.execute_reply": "2023-04-26T18:07:04.901602Z"
    },
    "papermill": {
     "duration": 0.033301,
     "end_time": "2023-04-26T18:07:04.904982",
     "exception": false,
     "start_time": "2023-04-26T18:07:04.871681",
     "status": "completed"
    },
    "tags": []
   },
   "outputs": [],
   "source": [
    "final.to_csv('submission.csv', index=False)"
   ]
  }
 ],
 "metadata": {
  "kernelspec": {
   "display_name": "Python 3",
   "language": "python",
   "name": "python3"
  },
  "language_info": {
   "codemirror_mode": {
    "name": "ipython",
    "version": 3
   },
   "file_extension": ".py",
   "mimetype": "text/x-python",
   "name": "python",
   "nbconvert_exporter": "python",
   "pygments_lexer": "ipython3",
   "version": "3.7.12"
  },
  "papermill": {
   "default_parameters": {},
   "duration": 16.477716,
   "end_time": "2023-04-26T18:07:05.747289",
   "environment_variables": {},
   "exception": null,
   "input_path": "__notebook__.ipynb",
   "output_path": "__notebook__.ipynb",
   "parameters": {},
   "start_time": "2023-04-26T18:06:49.269573",
   "version": "2.4.0"
  }
 },
 "nbformat": 4,
 "nbformat_minor": 5
}
